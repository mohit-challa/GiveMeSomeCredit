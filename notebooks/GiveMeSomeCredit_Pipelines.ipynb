{
 "cells": [
  {
   "cell_type": "code",
   "execution_count": 1,
   "id": "b0055fdb",
   "metadata": {},
   "outputs": [],
   "source": [
    "import warnings\n",
    "warnings.filterwarnings('ignore')\n",
    "\n",
    "import pandas as pd\n",
    "import numpy as np\n",
    "import seaborn as sns\n",
    "import matplotlib.pyplot as plt\n",
    "from matplotlib.pyplot import figure\n",
    "from imblearn.over_sampling import SMOTE\n",
    "\n",
    "from sklearn.preprocessing import StandardScaler\n",
    "from sklearn.preprocessing import OneHotEncoder\n",
    "from sklearn.preprocessing import OrdinalEncoder\n",
    "from sklearn.preprocessing import LabelEncoder\n",
    "from sklearn.preprocessing import FunctionTransformer\n",
    "from sklearn.model_selection import train_test_split\n",
    "from sklearn.linear_model import LogisticRegression\n",
    "from sklearn.neighbors import KNeighborsClassifier\n",
    "from sklearn.svm import SVC\n",
    "from sklearn.ensemble import RandomForestClassifier\n",
    "from sklearn.model_selection import cross_validate\n",
    "from sklearn.model_selection import cross_val_predict\n",
    "from sklearn.metrics import plot_confusion_matrix\n",
    "from sklearn.model_selection import GridSearchCV\n",
    "from sklearn.metrics import roc_curve\n",
    "from sklearn.metrics import roc_auc_score\n",
    "from sklearn.metrics import precision_recall_curve\n",
    "from sklearn.metrics import plot_precision_recall_curve\n",
    "\n",
    "from imblearn.pipeline import make_pipeline\n",
    "from sklearn.pipeline import Pipeline\n",
    "#SMOTE does not work with sklearn pipeline, thus we have also used imblearn pipeline\n",
    "from imblearn.pipeline import Pipeline as imbPipeline\n",
    "from sklearn.compose import ColumnTransformer\n",
    "from sklearn.compose import make_column_transformer\n",
    "\n",
    "from sklearn import set_config\n",
    "set_config(display='diagram')\n",
    "\n",
    "# import sys\n",
    "# sys.path.insert(0,'/Users/hagiwara/code/mohit-challa/GiveMeSomeCredit/notebooks/utils')\n",
    "# from plots import plot_decision_regions"
   ]
  },
  {
   "cell_type": "code",
   "execution_count": 2,
   "id": "5541c68d",
   "metadata": {
    "scrolled": true
   },
   "outputs": [],
   "source": [
    "df = pd.read_csv('../raw_data/BankChurners.csv')\n",
    "df.drop(['CLIENTNUM','Naive_Bayes_Classifier_Attrition_Flag_Card_Category_Contacts_Count_12_mon_Dependent_count_Education_Level_Months_Inactive_12_mon_1','Naive_Bayes_Classifier_Attrition_Flag_Card_Category_Contacts_Count_12_mon_Dependent_count_Education_Level_Months_Inactive_12_mon_2'],\n",
    "        axis=1, inplace=True)"
   ]
  },
  {
   "cell_type": "code",
   "execution_count": 3,
   "id": "c7350131",
   "metadata": {},
   "outputs": [
    {
     "data": {
      "text/html": [
       "<div>\n",
       "<style scoped>\n",
       "    .dataframe tbody tr th:only-of-type {\n",
       "        vertical-align: middle;\n",
       "    }\n",
       "\n",
       "    .dataframe tbody tr th {\n",
       "        vertical-align: top;\n",
       "    }\n",
       "\n",
       "    .dataframe thead th {\n",
       "        text-align: right;\n",
       "    }\n",
       "</style>\n",
       "<table border=\"1\" class=\"dataframe\">\n",
       "  <thead>\n",
       "    <tr style=\"text-align: right;\">\n",
       "      <th></th>\n",
       "      <th>Attrition_Flag</th>\n",
       "      <th>Customer_Age</th>\n",
       "      <th>Gender</th>\n",
       "      <th>Dependent_count</th>\n",
       "      <th>Education_Level</th>\n",
       "      <th>Marital_Status</th>\n",
       "      <th>Income_Category</th>\n",
       "      <th>Card_Category</th>\n",
       "      <th>Months_on_book</th>\n",
       "      <th>Total_Relationship_Count</th>\n",
       "      <th>Months_Inactive_12_mon</th>\n",
       "      <th>Contacts_Count_12_mon</th>\n",
       "      <th>Credit_Limit</th>\n",
       "      <th>Total_Revolving_Bal</th>\n",
       "      <th>Avg_Open_To_Buy</th>\n",
       "      <th>Total_Amt_Chng_Q4_Q1</th>\n",
       "      <th>Total_Trans_Amt</th>\n",
       "      <th>Total_Trans_Ct</th>\n",
       "      <th>Total_Ct_Chng_Q4_Q1</th>\n",
       "      <th>Avg_Utilization_Ratio</th>\n",
       "    </tr>\n",
       "  </thead>\n",
       "  <tbody>\n",
       "    <tr>\n",
       "      <th>0</th>\n",
       "      <td>Existing Customer</td>\n",
       "      <td>45</td>\n",
       "      <td>M</td>\n",
       "      <td>3</td>\n",
       "      <td>High School</td>\n",
       "      <td>Married</td>\n",
       "      <td>$60K - $80K</td>\n",
       "      <td>Blue</td>\n",
       "      <td>39</td>\n",
       "      <td>5</td>\n",
       "      <td>1</td>\n",
       "      <td>3</td>\n",
       "      <td>12691.0</td>\n",
       "      <td>777</td>\n",
       "      <td>11914.0</td>\n",
       "      <td>1.335</td>\n",
       "      <td>1144</td>\n",
       "      <td>42</td>\n",
       "      <td>1.625</td>\n",
       "      <td>0.061</td>\n",
       "    </tr>\n",
       "    <tr>\n",
       "      <th>1</th>\n",
       "      <td>Existing Customer</td>\n",
       "      <td>49</td>\n",
       "      <td>F</td>\n",
       "      <td>5</td>\n",
       "      <td>Graduate</td>\n",
       "      <td>Single</td>\n",
       "      <td>Less than $40K</td>\n",
       "      <td>Blue</td>\n",
       "      <td>44</td>\n",
       "      <td>6</td>\n",
       "      <td>1</td>\n",
       "      <td>2</td>\n",
       "      <td>8256.0</td>\n",
       "      <td>864</td>\n",
       "      <td>7392.0</td>\n",
       "      <td>1.541</td>\n",
       "      <td>1291</td>\n",
       "      <td>33</td>\n",
       "      <td>3.714</td>\n",
       "      <td>0.105</td>\n",
       "    </tr>\n",
       "    <tr>\n",
       "      <th>2</th>\n",
       "      <td>Existing Customer</td>\n",
       "      <td>51</td>\n",
       "      <td>M</td>\n",
       "      <td>3</td>\n",
       "      <td>Graduate</td>\n",
       "      <td>Married</td>\n",
       "      <td>$80K - $120K</td>\n",
       "      <td>Blue</td>\n",
       "      <td>36</td>\n",
       "      <td>4</td>\n",
       "      <td>1</td>\n",
       "      <td>0</td>\n",
       "      <td>3418.0</td>\n",
       "      <td>0</td>\n",
       "      <td>3418.0</td>\n",
       "      <td>2.594</td>\n",
       "      <td>1887</td>\n",
       "      <td>20</td>\n",
       "      <td>2.333</td>\n",
       "      <td>0.000</td>\n",
       "    </tr>\n",
       "    <tr>\n",
       "      <th>3</th>\n",
       "      <td>Existing Customer</td>\n",
       "      <td>40</td>\n",
       "      <td>F</td>\n",
       "      <td>4</td>\n",
       "      <td>High School</td>\n",
       "      <td>Unknown</td>\n",
       "      <td>Less than $40K</td>\n",
       "      <td>Blue</td>\n",
       "      <td>34</td>\n",
       "      <td>3</td>\n",
       "      <td>4</td>\n",
       "      <td>1</td>\n",
       "      <td>3313.0</td>\n",
       "      <td>2517</td>\n",
       "      <td>796.0</td>\n",
       "      <td>1.405</td>\n",
       "      <td>1171</td>\n",
       "      <td>20</td>\n",
       "      <td>2.333</td>\n",
       "      <td>0.760</td>\n",
       "    </tr>\n",
       "    <tr>\n",
       "      <th>4</th>\n",
       "      <td>Existing Customer</td>\n",
       "      <td>40</td>\n",
       "      <td>M</td>\n",
       "      <td>3</td>\n",
       "      <td>Uneducated</td>\n",
       "      <td>Married</td>\n",
       "      <td>$60K - $80K</td>\n",
       "      <td>Blue</td>\n",
       "      <td>21</td>\n",
       "      <td>5</td>\n",
       "      <td>1</td>\n",
       "      <td>0</td>\n",
       "      <td>4716.0</td>\n",
       "      <td>0</td>\n",
       "      <td>4716.0</td>\n",
       "      <td>2.175</td>\n",
       "      <td>816</td>\n",
       "      <td>28</td>\n",
       "      <td>2.500</td>\n",
       "      <td>0.000</td>\n",
       "    </tr>\n",
       "  </tbody>\n",
       "</table>\n",
       "</div>"
      ],
      "text/plain": [
       "      Attrition_Flag  Customer_Age Gender  Dependent_count Education_Level  \\\n",
       "0  Existing Customer            45      M                3     High School   \n",
       "1  Existing Customer            49      F                5        Graduate   \n",
       "2  Existing Customer            51      M                3        Graduate   \n",
       "3  Existing Customer            40      F                4     High School   \n",
       "4  Existing Customer            40      M                3      Uneducated   \n",
       "\n",
       "  Marital_Status Income_Category Card_Category  Months_on_book  \\\n",
       "0        Married     $60K - $80K          Blue              39   \n",
       "1         Single  Less than $40K          Blue              44   \n",
       "2        Married    $80K - $120K          Blue              36   \n",
       "3        Unknown  Less than $40K          Blue              34   \n",
       "4        Married     $60K - $80K          Blue              21   \n",
       "\n",
       "   Total_Relationship_Count  Months_Inactive_12_mon  Contacts_Count_12_mon  \\\n",
       "0                         5                       1                      3   \n",
       "1                         6                       1                      2   \n",
       "2                         4                       1                      0   \n",
       "3                         3                       4                      1   \n",
       "4                         5                       1                      0   \n",
       "\n",
       "   Credit_Limit  Total_Revolving_Bal  Avg_Open_To_Buy  Total_Amt_Chng_Q4_Q1  \\\n",
       "0       12691.0                  777          11914.0                 1.335   \n",
       "1        8256.0                  864           7392.0                 1.541   \n",
       "2        3418.0                    0           3418.0                 2.594   \n",
       "3        3313.0                 2517            796.0                 1.405   \n",
       "4        4716.0                    0           4716.0                 2.175   \n",
       "\n",
       "   Total_Trans_Amt  Total_Trans_Ct  Total_Ct_Chng_Q4_Q1  Avg_Utilization_Ratio  \n",
       "0             1144              42                1.625                  0.061  \n",
       "1             1291              33                3.714                  0.105  \n",
       "2             1887              20                2.333                  0.000  \n",
       "3             1171              20                2.333                  0.760  \n",
       "4              816              28                2.500                  0.000  "
      ]
     },
     "execution_count": 3,
     "metadata": {},
     "output_type": "execute_result"
    }
   ],
   "source": [
    "df.head()"
   ]
  },
  {
   "cell_type": "markdown",
   "id": "ebd11e95",
   "metadata": {},
   "source": [
    "## Exploring corelations with heatmap"
   ]
  },
  {
   "cell_type": "code",
   "execution_count": 4,
   "id": "80c4944a",
   "metadata": {
    "scrolled": true
   },
   "outputs": [
    {
     "data": {
      "text/plain": [
       "<AxesSubplot:>"
      ]
     },
     "execution_count": 4,
     "metadata": {},
     "output_type": "execute_result"
    },
    {
     "data": {
      "image/png": "[encoded data removed]",
      "text/plain": [
       "<Figure size 1080x576 with 2 Axes>"
      ]
     },
     "metadata": {
      "needs_background": "light"
     },
     "output_type": "display_data"
    }
   ],
   "source": [
    "corr = df.corr()\n",
    "\n",
    "fig, ax = plt.subplots(figsize=(15,8)) \n",
    "\n",
    "sns.heatmap(corr, \n",
    "        xticklabels=corr.columns,\n",
    "        yticklabels=corr.columns,\n",
    "        cmap= \"YlGnBu\",\n",
    "        annot=True,\n",
    "        ax=ax)"
   ]
  },
  {
   "cell_type": "code",
   "execution_count": 5,
   "id": "83e9caf0",
   "metadata": {},
   "outputs": [],
   "source": [
    "corr_df = corr.unstack().reset_index() # Unstack correlation matrix \n",
    "corr_df.columns = ['feature_1','feature_2', 'correlation'] # rename columns\n",
    "corr_df.sort_values(by=\"correlation\",ascending=False, inplace=True) # sort by correlation\n",
    "corr_df = corr_df[corr_df['feature_1'] != corr_df['feature_2']] # Remove self correlation"
   ]
  },
  {
   "cell_type": "code",
   "execution_count": 6,
   "id": "47400fdc",
   "metadata": {},
   "outputs": [
    {
     "data": {
      "text/html": [
       "<div>\n",
       "<style scoped>\n",
       "    .dataframe tbody tr th:only-of-type {\n",
       "        vertical-align: middle;\n",
       "    }\n",
       "\n",
       "    .dataframe tbody tr th {\n",
       "        vertical-align: top;\n",
       "    }\n",
       "\n",
       "    .dataframe thead th {\n",
       "        text-align: right;\n",
       "    }\n",
       "</style>\n",
       "<table border=\"1\" class=\"dataframe\">\n",
       "  <thead>\n",
       "    <tr style=\"text-align: right;\">\n",
       "      <th></th>\n",
       "      <th>feature_1</th>\n",
       "      <th>feature_2</th>\n",
       "      <th>correlation</th>\n",
       "    </tr>\n",
       "  </thead>\n",
       "  <tbody>\n",
       "    <tr>\n",
       "      <th>118</th>\n",
       "      <td>Avg_Open_To_Buy</td>\n",
       "      <td>Credit_Limit</td>\n",
       "      <td>0.995981</td>\n",
       "    </tr>\n",
       "    <tr>\n",
       "      <th>92</th>\n",
       "      <td>Credit_Limit</td>\n",
       "      <td>Avg_Open_To_Buy</td>\n",
       "      <td>0.995981</td>\n",
       "    </tr>\n",
       "    <tr>\n",
       "      <th>151</th>\n",
       "      <td>Total_Trans_Amt</td>\n",
       "      <td>Total_Trans_Ct</td>\n",
       "      <td>0.807192</td>\n",
       "    </tr>\n",
       "    <tr>\n",
       "      <th>164</th>\n",
       "      <td>Total_Trans_Ct</td>\n",
       "      <td>Total_Trans_Amt</td>\n",
       "      <td>0.807192</td>\n",
       "    </tr>\n",
       "    <tr>\n",
       "      <th>28</th>\n",
       "      <td>Months_on_book</td>\n",
       "      <td>Customer_Age</td>\n",
       "      <td>0.788912</td>\n",
       "    </tr>\n",
       "  </tbody>\n",
       "</table>\n",
       "</div>"
      ],
      "text/plain": [
       "           feature_1        feature_2  correlation\n",
       "118  Avg_Open_To_Buy     Credit_Limit     0.995981\n",
       "92      Credit_Limit  Avg_Open_To_Buy     0.995981\n",
       "151  Total_Trans_Amt   Total_Trans_Ct     0.807192\n",
       "164   Total_Trans_Ct  Total_Trans_Amt     0.807192\n",
       "28    Months_on_book     Customer_Age     0.788912"
      ]
     },
     "execution_count": 6,
     "metadata": {},
     "output_type": "execute_result"
    }
   ],
   "source": [
    "corr_df.head()"
   ]
  },
  {
   "cell_type": "markdown",
   "id": "2bffe1c0",
   "metadata": {},
   "source": [
    "Dropping the `Avg_Open_To_Buy` column because of high corelation with `Credit_Limit`"
   ]
  },
  {
   "cell_type": "code",
   "execution_count": 7,
   "id": "59e0d558",
   "metadata": {},
   "outputs": [],
   "source": [
    "df.drop('Avg_Open_To_Buy',axis=1, inplace=True)"
   ]
  },
  {
   "cell_type": "markdown",
   "id": "3ea69e75",
   "metadata": {},
   "source": [
    "## Hold-out"
   ]
  },
  {
   "cell_type": "code",
   "execution_count": 8,
   "id": "e81f0d58",
   "metadata": {},
   "outputs": [],
   "source": [
    "X = df.drop(['Attrition_Flag','Card_Category','Marital_Status','Gender'], axis=1).copy()\n",
    "y = df[['Attrition_Flag']].copy()\n",
    "y['Existing Customer'] = LabelEncoder().fit_transform(df['Attrition_Flag'])\n",
    "y.drop('Attrition_Flag', axis=1, inplace=True)\n",
    "\n",
    "X_train, X_test, y_train, y_test = train_test_split(X, y, test_size=0.1, random_state=0)"
   ]
  },
  {
   "cell_type": "code",
   "execution_count": 9,
   "id": "bc5a9da1",
   "metadata": {},
   "outputs": [
    {
     "data": {
      "text/html": [
       "<div>\n",
       "<style scoped>\n",
       "    .dataframe tbody tr th:only-of-type {\n",
       "        vertical-align: middle;\n",
       "    }\n",
       "\n",
       "    .dataframe tbody tr th {\n",
       "        vertical-align: top;\n",
       "    }\n",
       "\n",
       "    .dataframe thead th {\n",
       "        text-align: right;\n",
       "    }\n",
       "</style>\n",
       "<table border=\"1\" class=\"dataframe\">\n",
       "  <thead>\n",
       "    <tr style=\"text-align: right;\">\n",
       "      <th></th>\n",
       "      <th>Customer_Age</th>\n",
       "      <th>Dependent_count</th>\n",
       "      <th>Education_Level</th>\n",
       "      <th>Income_Category</th>\n",
       "      <th>Months_on_book</th>\n",
       "      <th>Total_Relationship_Count</th>\n",
       "      <th>Months_Inactive_12_mon</th>\n",
       "      <th>Contacts_Count_12_mon</th>\n",
       "      <th>Credit_Limit</th>\n",
       "      <th>Total_Revolving_Bal</th>\n",
       "      <th>Total_Amt_Chng_Q4_Q1</th>\n",
       "      <th>Total_Trans_Amt</th>\n",
       "      <th>Total_Trans_Ct</th>\n",
       "      <th>Total_Ct_Chng_Q4_Q1</th>\n",
       "      <th>Avg_Utilization_Ratio</th>\n",
       "    </tr>\n",
       "  </thead>\n",
       "  <tbody>\n",
       "    <tr>\n",
       "      <th>5220</th>\n",
       "      <td>39</td>\n",
       "      <td>2</td>\n",
       "      <td>Uneducated</td>\n",
       "      <td>$80K - $120K</td>\n",
       "      <td>36</td>\n",
       "      <td>6</td>\n",
       "      <td>2</td>\n",
       "      <td>4</td>\n",
       "      <td>7901.0</td>\n",
       "      <td>1184</td>\n",
       "      <td>0.863</td>\n",
       "      <td>3667</td>\n",
       "      <td>66</td>\n",
       "      <td>0.784</td>\n",
       "      <td>0.150</td>\n",
       "    </tr>\n",
       "    <tr>\n",
       "      <th>6568</th>\n",
       "      <td>58</td>\n",
       "      <td>2</td>\n",
       "      <td>College</td>\n",
       "      <td>Less than $40K</td>\n",
       "      <td>36</td>\n",
       "      <td>6</td>\n",
       "      <td>4</td>\n",
       "      <td>0</td>\n",
       "      <td>2212.0</td>\n",
       "      <td>1902</td>\n",
       "      <td>0.691</td>\n",
       "      <td>4976</td>\n",
       "      <td>79</td>\n",
       "      <td>0.975</td>\n",
       "      <td>0.860</td>\n",
       "    </tr>\n",
       "    <tr>\n",
       "      <th>7657</th>\n",
       "      <td>44</td>\n",
       "      <td>3</td>\n",
       "      <td>High School</td>\n",
       "      <td>Less than $40K</td>\n",
       "      <td>35</td>\n",
       "      <td>5</td>\n",
       "      <td>3</td>\n",
       "      <td>0</td>\n",
       "      <td>3398.0</td>\n",
       "      <td>2415</td>\n",
       "      <td>0.891</td>\n",
       "      <td>4509</td>\n",
       "      <td>93</td>\n",
       "      <td>0.661</td>\n",
       "      <td>0.711</td>\n",
       "    </tr>\n",
       "    <tr>\n",
       "      <th>9241</th>\n",
       "      <td>34</td>\n",
       "      <td>4</td>\n",
       "      <td>Unknown</td>\n",
       "      <td>Less than $40K</td>\n",
       "      <td>23</td>\n",
       "      <td>1</td>\n",
       "      <td>3</td>\n",
       "      <td>2</td>\n",
       "      <td>7664.0</td>\n",
       "      <td>1785</td>\n",
       "      <td>0.947</td>\n",
       "      <td>15077</td>\n",
       "      <td>126</td>\n",
       "      <td>0.800</td>\n",
       "      <td>0.233</td>\n",
       "    </tr>\n",
       "    <tr>\n",
       "      <th>5322</th>\n",
       "      <td>48</td>\n",
       "      <td>2</td>\n",
       "      <td>Unknown</td>\n",
       "      <td>$40K - $60K</td>\n",
       "      <td>43</td>\n",
       "      <td>5</td>\n",
       "      <td>2</td>\n",
       "      <td>2</td>\n",
       "      <td>1761.0</td>\n",
       "      <td>1249</td>\n",
       "      <td>0.936</td>\n",
       "      <td>4410</td>\n",
       "      <td>73</td>\n",
       "      <td>0.622</td>\n",
       "      <td>0.709</td>\n",
       "    </tr>\n",
       "  </tbody>\n",
       "</table>\n",
       "</div>"
      ],
      "text/plain": [
       "      Customer_Age  Dependent_count Education_Level Income_Category  \\\n",
       "5220            39                2      Uneducated    $80K - $120K   \n",
       "6568            58                2         College  Less than $40K   \n",
       "7657            44                3     High School  Less than $40K   \n",
       "9241            34                4         Unknown  Less than $40K   \n",
       "5322            48                2         Unknown     $40K - $60K   \n",
       "\n",
       "      Months_on_book  Total_Relationship_Count  Months_Inactive_12_mon  \\\n",
       "5220              36                         6                       2   \n",
       "6568              36                         6                       4   \n",
       "7657              35                         5                       3   \n",
       "9241              23                         1                       3   \n",
       "5322              43                         5                       2   \n",
       "\n",
       "      Contacts_Count_12_mon  Credit_Limit  Total_Revolving_Bal  \\\n",
       "5220                      4        7901.0                 1184   \n",
       "6568                      0        2212.0                 1902   \n",
       "7657                      0        3398.0                 2415   \n",
       "9241                      2        7664.0                 1785   \n",
       "5322                      2        1761.0                 1249   \n",
       "\n",
       "      Total_Amt_Chng_Q4_Q1  Total_Trans_Amt  Total_Trans_Ct  \\\n",
       "5220                 0.863             3667              66   \n",
       "6568                 0.691             4976              79   \n",
       "7657                 0.891             4509              93   \n",
       "9241                 0.947            15077             126   \n",
       "5322                 0.936             4410              73   \n",
       "\n",
       "      Total_Ct_Chng_Q4_Q1  Avg_Utilization_Ratio  \n",
       "5220                0.784                  0.150  \n",
       "6568                0.975                  0.860  \n",
       "7657                0.661                  0.711  \n",
       "9241                0.800                  0.233  \n",
       "5322                0.622                  0.709  "
      ]
     },
     "execution_count": 9,
     "metadata": {},
     "output_type": "execute_result"
    }
   ],
   "source": [
    "X_train.head()"
   ]
  },
  {
   "cell_type": "markdown",
   "id": "33c02495",
   "metadata": {},
   "source": [
    "## Building pipelines"
   ]
  },
  {
   "cell_type": "code",
   "execution_count": 10,
   "id": "45f60d91",
   "metadata": {},
   "outputs": [],
   "source": [
    "#List of columns for encoding\n",
    "\n",
    "#Removed after feature importance: categorical_columns = ['Gender','Marital_Status']\n",
    "\n",
    "ordinal_columns = ['Education_Level', 'Income_Category']\n",
    "#Removed after feature importance:'Card_Category'\n",
    "\n",
    "numerical_columns = ['Customer_Age', 'Dependent_count', 'Months_on_book', 'Total_Relationship_Count',\n",
    "                     'Months_Inactive_12_mon','Contacts_Count_12_mon','Credit_Limit','Total_Revolving_Bal',\n",
    "                    'Total_Amt_Chng_Q4_Q1','Total_Trans_Amt','Total_Trans_Ct','Total_Ct_Chng_Q4_Q1',\n",
    "                    'Avg_Utilization_Ratio']\n",
    "\n",
    "#Column categories for ordinal encoding\n",
    "\n",
    "#Removed after feature importance: card_category = ['Blue', 'Silver', 'Gold', 'Platinum']\n",
    "education_category = ['Uneducated', 'High School', 'College', 'Unknown', 'Graduate', 'Post-Graduate', 'Doctorate']\n",
    "income_category = ['Less than $40K', '$40K - $60K', 'Unknown','$60K - $80K', '$80K - $120K', '$120K +']"
   ]
  },
  {
   "cell_type": "code",
   "execution_count": 11,
   "id": "3b0b8130",
   "metadata": {},
   "outputs": [],
   "source": [
    "preprocessing = ColumnTransformer(\n",
    "    [#('cat', OneHotEncoder(handle_unknown='ignore'), categorical_columns),\n",
    "     ('ord', OrdinalEncoder(categories=[education_category, income_category]), ordinal_columns), #Removed after feature importance:\n",
    "     ('num', StandardScaler(), numerical_columns)])\n",
    "\n",
    "smote = SMOTE(random_state=0)\n",
    "\n",
    "# log = imbPipeline([\n",
    "#     ('preprocess', preprocessing),\n",
    "#     ('smote', smote),\n",
    "#     ('classifier', LogisticRegression(random_state=0))])\n",
    "\n",
    "# knn = imbPipeline([\n",
    "#     ('preprocess', preprocessing),\n",
    "#     ('smote', smote),\n",
    "#     ('classifier', KNeighborsClassifier(n_neighbors=3, p=1))])\n",
    "\n",
    "# svm = imbPipeline([\n",
    "#     ('preprocess', preprocessing),\n",
    "#     ('smote', smote),\n",
    "#     ('classifier', SVC(C=100, kernel='poly', probability=True, random_state=0))])\n",
    "\n",
    "rf = imbPipeline([\n",
    "    ('preprocess', preprocessing),\n",
    "    ('smote', smote),\n",
    "    ('classifier', RandomForestClassifier(criterion='entropy', min_samples_split=2, n_estimators=500, random_state=0))])"
   ]
  },
  {
   "cell_type": "code",
   "execution_count": 12,
   "id": "d1587f11",
   "metadata": {},
   "outputs": [
    {
     "data": {
      "text/html": [
       "<style>#sk-f0416359-f3ec-4392-a359-48a5dd472daf {color: black;background-color: white;}#sk-f0416359-f3ec-4392-a359-48a5dd472daf pre{padding: 0;}#sk-f0416359-f3ec-4392-a359-48a5dd472daf div.sk-toggleable {background-color: white;}#sk-f0416359-f3ec-4392-a359-48a5dd472daf label.sk-toggleable__label {cursor: pointer;display: block;width: 100%;margin-bottom: 0;padding: 0.2em 0.3em;box-sizing: border-box;text-align: center;}#sk-f0416359-f3ec-4392-a359-48a5dd472daf div.sk-toggleable__content {max-height: 0;max-width: 0;overflow: hidden;text-align: left;background-color: #f0f8ff;}#sk-f0416359-f3ec-4392-a359-48a5dd472daf div.sk-toggleable__content pre {margin: 0.2em;color: black;border-radius: 0.25em;background-color: #f0f8ff;}#sk-f0416359-f3ec-4392-a359-48a5dd472daf input.sk-toggleable__control:checked~div.sk-toggleable__content {max-height: 200px;max-width: 100%;overflow: auto;}#sk-f0416359-f3ec-4392-a359-48a5dd472daf div.sk-estimator input.sk-toggleable__control:checked~label.sk-toggleable__label {background-color: #d4ebff;}#sk-f0416359-f3ec-4392-a359-48a5dd472daf div.sk-label input.sk-toggleable__control:checked~label.sk-toggleable__label {background-color: #d4ebff;}#sk-f0416359-f3ec-4392-a359-48a5dd472daf input.sk-hidden--visually {border: 0;clip: rect(1px 1px 1px 1px);clip: rect(1px, 1px, 1px, 1px);height: 1px;margin: -1px;overflow: hidden;padding: 0;position: absolute;width: 1px;}#sk-f0416359-f3ec-4392-a359-48a5dd472daf div.sk-estimator {font-family: monospace;background-color: #f0f8ff;margin: 0.25em 0.25em;border: 1px dotted black;border-radius: 0.25em;box-sizing: border-box;}#sk-f0416359-f3ec-4392-a359-48a5dd472daf div.sk-estimator:hover {background-color: #d4ebff;}#sk-f0416359-f3ec-4392-a359-48a5dd472daf div.sk-parallel-item::after {content: \"\";width: 100%;border-bottom: 1px solid gray;flex-grow: 1;}#sk-f0416359-f3ec-4392-a359-48a5dd472daf div.sk-label:hover label.sk-toggleable__label {background-color: #d4ebff;}#sk-f0416359-f3ec-4392-a359-48a5dd472daf div.sk-serial::before {content: \"\";position: absolute;border-left: 1px solid gray;box-sizing: border-box;top: 2em;bottom: 0;left: 50%;}#sk-f0416359-f3ec-4392-a359-48a5dd472daf div.sk-serial {display: flex;flex-direction: column;align-items: center;background-color: white;}#sk-f0416359-f3ec-4392-a359-48a5dd472daf div.sk-item {z-index: 1;}#sk-f0416359-f3ec-4392-a359-48a5dd472daf div.sk-parallel {display: flex;align-items: stretch;justify-content: center;background-color: white;}#sk-f0416359-f3ec-4392-a359-48a5dd472daf div.sk-parallel-item {display: flex;flex-direction: column;position: relative;background-color: white;}#sk-f0416359-f3ec-4392-a359-48a5dd472daf div.sk-parallel-item:first-child::after {align-self: flex-end;width: 50%;}#sk-f0416359-f3ec-4392-a359-48a5dd472daf div.sk-parallel-item:last-child::after {align-self: flex-start;width: 50%;}#sk-f0416359-f3ec-4392-a359-48a5dd472daf div.sk-parallel-item:only-child::after {width: 0;}#sk-f0416359-f3ec-4392-a359-48a5dd472daf div.sk-dashed-wrapped {border: 1px dashed gray;margin: 0.2em;box-sizing: border-box;padding-bottom: 0.1em;background-color: white;position: relative;}#sk-f0416359-f3ec-4392-a359-48a5dd472daf div.sk-label label {font-family: monospace;font-weight: bold;background-color: white;display: inline-block;line-height: 1.2em;}#sk-f0416359-f3ec-4392-a359-48a5dd472daf div.sk-label-container {position: relative;z-index: 2;text-align: center;}#sk-f0416359-f3ec-4392-a359-48a5dd472daf div.sk-container {display: inline-block;position: relative;}</style><div id=\"sk-f0416359-f3ec-4392-a359-48a5dd472daf\" class\"sk-top-container\"><div class=\"sk-container\"><div class=\"sk-item sk-dashed-wrapped\"><div class=\"sk-label-container\"><div class=\"sk-label sk-toggleable\"><input class=\"sk-toggleable__control sk-hidden--visually\" id=\"f7092666-e44b-43c5-848e-f014afaee67a\" type=\"checkbox\" ><label class=\"sk-toggleable__label\" for=\"f7092666-e44b-43c5-848e-f014afaee67a\">Pipeline</label><div class=\"sk-toggleable__content\"><pre>Pipeline(steps=[('preprocess',\n",
       "                 ColumnTransformer(transformers=[('ord',\n",
       "                                                  OrdinalEncoder(categories=[['Uneducated',\n",
       "                                                                              'High '\n",
       "                                                                              'School',\n",
       "                                                                              'College',\n",
       "                                                                              'Unknown',\n",
       "                                                                              'Graduate',\n",
       "                                                                              'Post-Graduate',\n",
       "                                                                              'Doctorate'],\n",
       "                                                                             ['Less '\n",
       "                                                                              'than '\n",
       "                                                                              '$40K',\n",
       "                                                                              '$40K '\n",
       "                                                                              '- '\n",
       "                                                                              '$60K',\n",
       "                                                                              'Unknown',\n",
       "                                                                              '$60K '\n",
       "                                                                              '- '\n",
       "                                                                              '$80K',\n",
       "                                                                              '$80K '\n",
       "                                                                              '- '\n",
       "                                                                              '$120K',\n",
       "                                                                              '$120K '\n",
       "                                                                              '+']]),\n",
       "                                                  ['Education_Level',\n",
       "                                                   'Income_Category']),\n",
       "                                                 ('num', StandardScaler(),\n",
       "                                                  ['Custome...\n",
       "                                                   'Months_on_book',\n",
       "                                                   'Total_Relationship_Count',\n",
       "                                                   'Months_Inactive_12_mon',\n",
       "                                                   'Contacts_Count_12_mon',\n",
       "                                                   'Credit_Limit',\n",
       "                                                   'Total_Revolving_Bal',\n",
       "                                                   'Total_Amt_Chng_Q4_Q1',\n",
       "                                                   'Total_Trans_Amt',\n",
       "                                                   'Total_Trans_Ct',\n",
       "                                                   'Total_Ct_Chng_Q4_Q1',\n",
       "                                                   'Avg_Utilization_Ratio'])])),\n",
       "                ('smote', SMOTE(random_state=0)),\n",
       "                ('classifier',\n",
       "                 RandomForestClassifier(criterion='entropy', n_estimators=500,\n",
       "                                        random_state=0))])</pre></div></div></div><div class=\"sk-serial\"><div class=\"sk-item sk-dashed-wrapped\"><div class=\"sk-label-container\"><div class=\"sk-label sk-toggleable\"><input class=\"sk-toggleable__control sk-hidden--visually\" id=\"7f2e888e-0f66-45f0-9d1b-3e01ad8a6391\" type=\"checkbox\" ><label class=\"sk-toggleable__label\" for=\"7f2e888e-0f66-45f0-9d1b-3e01ad8a6391\">preprocess: ColumnTransformer</label><div class=\"sk-toggleable__content\"><pre>ColumnTransformer(transformers=[('ord',\n",
       "                                 OrdinalEncoder(categories=[['Uneducated',\n",
       "                                                             'High School',\n",
       "                                                             'College',\n",
       "                                                             'Unknown',\n",
       "                                                             'Graduate',\n",
       "                                                             'Post-Graduate',\n",
       "                                                             'Doctorate'],\n",
       "                                                            ['Less than $40K',\n",
       "                                                             '$40K - $60K',\n",
       "                                                             'Unknown',\n",
       "                                                             '$60K - $80K',\n",
       "                                                             '$80K - $120K',\n",
       "                                                             '$120K +']]),\n",
       "                                 ['Education_Level', 'Income_Category']),\n",
       "                                ('num', StandardScaler(),\n",
       "                                 ['Customer_Age', 'Dependent_count',\n",
       "                                  'Months_on_book', 'Total_Relationship_Count',\n",
       "                                  'Months_Inactive_12_mon',\n",
       "                                  'Contacts_Count_12_mon', 'Credit_Limit',\n",
       "                                  'Total_Revolving_Bal', 'Total_Amt_Chng_Q4_Q1',\n",
       "                                  'Total_Trans_Amt', 'Total_Trans_Ct',\n",
       "                                  'Total_Ct_Chng_Q4_Q1',\n",
       "                                  'Avg_Utilization_Ratio'])])</pre></div></div></div><div class=\"sk-parallel\"><div class=\"sk-parallel-item\"><div class=\"sk-item\"><div class=\"sk-label-container\"><div class=\"sk-label sk-toggleable\"><input class=\"sk-toggleable__control sk-hidden--visually\" id=\"7deb8d34-7041-4839-97df-33f3751fb905\" type=\"checkbox\" ><label class=\"sk-toggleable__label\" for=\"7deb8d34-7041-4839-97df-33f3751fb905\">ord</label><div class=\"sk-toggleable__content\"><pre>['Education_Level', 'Income_Category']</pre></div></div></div><div class=\"sk-serial\"><div class=\"sk-item\"><div class=\"sk-estimator sk-toggleable\"><input class=\"sk-toggleable__control sk-hidden--visually\" id=\"34c517a8-d635-4125-99dc-dc9b65c36536\" type=\"checkbox\" ><label class=\"sk-toggleable__label\" for=\"34c517a8-d635-4125-99dc-dc9b65c36536\">OrdinalEncoder</label><div class=\"sk-toggleable__content\"><pre>OrdinalEncoder(categories=[['Uneducated', 'High School', 'College', 'Unknown',\n",
       "                            'Graduate', 'Post-Graduate', 'Doctorate'],\n",
       "                           ['Less than $40K', '$40K - $60K', 'Unknown',\n",
       "                            '$60K - $80K', '$80K - $120K', '$120K +']])</pre></div></div></div></div></div></div><div class=\"sk-parallel-item\"><div class=\"sk-item\"><div class=\"sk-label-container\"><div class=\"sk-label sk-toggleable\"><input class=\"sk-toggleable__control sk-hidden--visually\" id=\"be8df997-9c9e-4bd7-8d6f-0cd28f6a583f\" type=\"checkbox\" ><label class=\"sk-toggleable__label\" for=\"be8df997-9c9e-4bd7-8d6f-0cd28f6a583f\">num</label><div class=\"sk-toggleable__content\"><pre>['Customer_Age', 'Dependent_count', 'Months_on_book', 'Total_Relationship_Count', 'Months_Inactive_12_mon', 'Contacts_Count_12_mon', 'Credit_Limit', 'Total_Revolving_Bal', 'Total_Amt_Chng_Q4_Q1', 'Total_Trans_Amt', 'Total_Trans_Ct', 'Total_Ct_Chng_Q4_Q1', 'Avg_Utilization_Ratio']</pre></div></div></div><div class=\"sk-serial\"><div class=\"sk-item\"><div class=\"sk-estimator sk-toggleable\"><input class=\"sk-toggleable__control sk-hidden--visually\" id=\"460d0602-104c-44e7-bdff-0daf0f2d5b33\" type=\"checkbox\" ><label class=\"sk-toggleable__label\" for=\"460d0602-104c-44e7-bdff-0daf0f2d5b33\">StandardScaler</label><div class=\"sk-toggleable__content\"><pre>StandardScaler()</pre></div></div></div></div></div></div></div></div><div class=\"sk-item\"><div class=\"sk-estimator sk-toggleable\"><input class=\"sk-toggleable__control sk-hidden--visually\" id=\"ff2904a8-a96a-4fe9-bed4-38ad749fd1b8\" type=\"checkbox\" ><label class=\"sk-toggleable__label\" for=\"ff2904a8-a96a-4fe9-bed4-38ad749fd1b8\">SMOTE</label><div class=\"sk-toggleable__content\"><pre>SMOTE(random_state=0)</pre></div></div></div><div class=\"sk-item\"><div class=\"sk-estimator sk-toggleable\"><input class=\"sk-toggleable__control sk-hidden--visually\" id=\"806e8e0d-5d9f-4bca-abfb-d181d73334aa\" type=\"checkbox\" ><label class=\"sk-toggleable__label\" for=\"806e8e0d-5d9f-4bca-abfb-d181d73334aa\">RandomForestClassifier</label><div class=\"sk-toggleable__content\"><pre>RandomForestClassifier(criterion='entropy', n_estimators=500, random_state=0)</pre></div></div></div></div></div></div></div>"
      ],
      "text/plain": [
       "Pipeline(steps=[('preprocess',\n",
       "                 ColumnTransformer(transformers=[('ord',\n",
       "                                                  OrdinalEncoder(categories=[['Uneducated',\n",
       "                                                                              'High '\n",
       "                                                                              'School',\n",
       "                                                                              'College',\n",
       "                                                                              'Unknown',\n",
       "                                                                              'Graduate',\n",
       "                                                                              'Post-Graduate',\n",
       "                                                                              'Doctorate'],\n",
       "                                                                             ['Less '\n",
       "                                                                              'than '\n",
       "                                                                              '$40K',\n",
       "                                                                              '$40K '\n",
       "                                                                              '- '\n",
       "                                                                              '$60K',\n",
       "                                                                              'Unknown',\n",
       "                                                                              '$60K '\n",
       "                                                                              '- '\n",
       "                                                                              '$80K',\n",
       "                                                                              '$80K '\n",
       "                                                                              '- '\n",
       "                                                                              '$120K',\n",
       "                                                                              '$120K '\n",
       "                                                                              '+']]),\n",
       "                                                  ['Education_Level',\n",
       "                                                   'Income_Category']),\n",
       "                                                 ('num', StandardScaler(),\n",
       "                                                  ['Custome...\n",
       "                                                   'Months_on_book',\n",
       "                                                   'Total_Relationship_Count',\n",
       "                                                   'Months_Inactive_12_mon',\n",
       "                                                   'Contacts_Count_12_mon',\n",
       "                                                   'Credit_Limit',\n",
       "                                                   'Total_Revolving_Bal',\n",
       "                                                   'Total_Amt_Chng_Q4_Q1',\n",
       "                                                   'Total_Trans_Amt',\n",
       "                                                   'Total_Trans_Ct',\n",
       "                                                   'Total_Ct_Chng_Q4_Q1',\n",
       "                                                   'Avg_Utilization_Ratio'])])),\n",
       "                ('smote', SMOTE(random_state=0)),\n",
       "                ('classifier',\n",
       "                 RandomForestClassifier(criterion='entropy', n_estimators=500,\n",
       "                                        random_state=0))])"
      ]
     },
     "execution_count": 12,
     "metadata": {},
     "output_type": "execute_result"
    }
   ],
   "source": [
    "# log.fit(X_train, y_train)\n",
    "# knn.fit(X_train, y_train)\n",
    "# svm.fit(X_train, y_train)\n",
    "rf.fit(X_train, y_train)"
   ]
  },
  {
   "cell_type": "markdown",
   "id": "0c4b7820",
   "metadata": {},
   "source": [
    "## Logistic Regression: Cross Validation"
   ]
  },
  {
   "cell_type": "code",
   "execution_count": 13,
   "id": "6211aef5",
   "metadata": {},
   "outputs": [],
   "source": [
    "# log_cv_results = cross_validate(log, X_train, y_train, cv=10, \n",
    "#                             scoring=['accuracy','recall','precision','f1'])"
   ]
  },
  {
   "cell_type": "code",
   "execution_count": 14,
   "id": "29591706",
   "metadata": {},
   "outputs": [],
   "source": [
    "# print('Accuracy:\\n', log_cv_results['test_accuracy'].mean())\n",
    "# print('\\nRecall\\n', log_cv_results['test_recall'].mean())\n",
    "# print('\\nPrecision\\n', log_cv_results['test_precision'].mean())\n",
    "# print('\\nf1:\\n', log_cv_results['test_f1'].mean())"
   ]
  },
  {
   "cell_type": "markdown",
   "id": "e95f900b",
   "metadata": {},
   "source": [
    "## KNN Classifier"
   ]
  },
  {
   "cell_type": "code",
   "execution_count": 15,
   "id": "dce40275",
   "metadata": {},
   "outputs": [],
   "source": [
    "# knn_cv_results = cross_validate(knn, X_train, y_train, cv=10, \n",
    "#                             scoring=['accuracy','recall','precision','f1'], n_jobs = -1) "
   ]
  },
  {
   "cell_type": "code",
   "execution_count": 16,
   "id": "16b3fe1c",
   "metadata": {},
   "outputs": [],
   "source": [
    "# print('Accuracy:\\n', knn_cv_results['test_accuracy'].mean())\n",
    "# print('\\nRecall:\\n', knn_cv_results['test_recall'].mean())\n",
    "# print('\\nPrecision:\\n', knn_cv_results['test_precision'].mean())\n",
    "# print('\\nf1:\\n', knn_cv_results['test_f1'].mean())"
   ]
  },
  {
   "cell_type": "markdown",
   "id": "2fb9184b",
   "metadata": {},
   "source": [
    "Update `knn_cv_results` with the best params."
   ]
  },
  {
   "cell_type": "markdown",
   "id": "53d9cde4",
   "metadata": {},
   "source": [
    "## SVM"
   ]
  },
  {
   "cell_type": "code",
   "execution_count": 17,
   "id": "a512f56e",
   "metadata": {},
   "outputs": [],
   "source": [
    "#svm_cv_results = cross_validate(svm, X_train, y_train, cv=5, \n",
    "#                            scoring=['accuracy','recall','precision','f1'], n_jobs = -1) "
   ]
  },
  {
   "cell_type": "code",
   "execution_count": 18,
   "id": "fa27e070",
   "metadata": {},
   "outputs": [],
   "source": [
    "# print('Accuracy:\\n', svm_cv_results['test_accuracy'].mean())\n",
    "# print('\\nRecall:\\n', svm_cv_results['test_recall'].mean())\n",
    "# print('\\nPrecision:\\n', svm_cv_results['test_precision'].mean())\n",
    "# print('\\nf1:\\n', svm_cv_results['test_f1'].mean())"
   ]
  },
  {
   "cell_type": "markdown",
   "id": "59a6b32f",
   "metadata": {},
   "source": [
    "## Random Forest"
   ]
  },
  {
   "cell_type": "code",
   "execution_count": 19,
   "id": "8e4b732f",
   "metadata": {},
   "outputs": [],
   "source": [
    "rf_cv_results = cross_validate(rf, X_train, y_train, cv=5, \n",
    "                            scoring=['accuracy','recall','precision','f1'], n_jobs = -1) "
   ]
  },
  {
   "cell_type": "code",
   "execution_count": 20,
   "id": "7ffa4de5",
   "metadata": {},
   "outputs": [
    {
     "name": "stdout",
     "output_type": "stream",
     "text": [
      "Accuracy:\n",
      " 0.9614881321906388\n",
      "\n",
      "Recall:\n",
      " 0.9759704147360129\n",
      "\n",
      "Precision:\n",
      " 0.9781613444718568\n",
      "\n",
      "f1:\n",
      " 0.9770535251313766\n"
     ]
    }
   ],
   "source": [
    "print('Accuracy:\\n', rf_cv_results['test_accuracy'].mean())\n",
    "print('\\nRecall:\\n', rf_cv_results['test_recall'].mean())\n",
    "print('\\nPrecision:\\n', rf_cv_results['test_precision'].mean())\n",
    "print('\\nf1:\\n', rf_cv_results['test_f1'].mean())"
   ]
  },
  {
   "cell_type": "markdown",
   "id": "76e87e31",
   "metadata": {},
   "source": [
    "## Inspecting AUC scores to select the best model"
   ]
  },
  {
   "cell_type": "code",
   "execution_count": 21,
   "id": "10f511ad",
   "metadata": {
    "scrolled": true
   },
   "outputs": [
    {
     "name": "stdout",
     "output_type": "stream",
     "text": [
      "\n",
      "Random Forest Classifier AUC score:  0.9897250715232713\n"
     ]
    }
   ],
   "source": [
    "# log_auc_score = roc_auc_score(y_test, log.predict_proba(X_test)[:,1], multi_class='ovr')\n",
    "# knn_auc_score = roc_auc_score(y_test, knn.predict_proba(X_test)[:,1], multi_class='ovr')\n",
    "# svm_auc_score = roc_auc_score(y_test, svm.predict_proba(X_test)[:,1], multi_class='ovr')\n",
    "rf_auc_score = roc_auc_score(y_test, rf.predict_proba(X_test)[:,1], multi_class='ovr')\n",
    "\n",
    "# print('\\nLogistic Regression AUC score: ',log_auc_score)\n",
    "# print('\\nKNN Classifier AUC score: ',knn_auc_score)\n",
    "# print('\\nSVM Classifier AUC score: ',svm_auc_score)\n",
    "print('\\nRandom Forest Classifier AUC score: ',rf_auc_score)"
   ]
  },
  {
   "cell_type": "code",
   "execution_count": 22,
   "id": "65b3cb5a",
   "metadata": {},
   "outputs": [
    {
     "data": {
      "text/plain": [
       "Text(0.5, 1.0, 'Precision-Recall curve')"
      ]
     },
     "execution_count": 22,
     "metadata": {},
     "output_type": "execute_result"
    },
    {
     "data": {
      "image/png": "[encoded data removed]",
      "text/plain": [
       "<Figure size 1080x576 with 1 Axes>"
      ]
     },
     "metadata": {
      "needs_background": "light"
     },
     "output_type": "display_data"
    }
   ],
   "source": [
    "fig = plt.gcf()\n",
    "fig.set_size_inches(15, 8)\n",
    "\n",
    "# plot_precision_recall_curve(log, X_test, y_test, ax = plt.gca(),name = 'Logistic Regression')\n",
    "# plot_precision_recall_curve(knn, X_test, y_test, ax = plt.gca(),name = 'KNN Classifier')\n",
    "# plot_precision_recall_curve(svm, X_test, y_test, ax = plt.gca(),name = 'SVM Classifier')\n",
    "plot_precision_recall_curve(rf, X_test, y_test, ax = plt.gca(),name = 'Random Forest Classifier')\n",
    "\n",
    "plt.title('Precision-Recall curve')"
   ]
  },
  {
   "cell_type": "markdown",
   "id": "f3e4a552",
   "metadata": {},
   "source": [
    "### From precision-recall curves, Random Forest classifier is the best model for the given task."
   ]
  },
  {
   "cell_type": "markdown",
   "id": "d2e26d3e",
   "metadata": {},
   "source": [
    "## Checking Feature Importances"
   ]
  },
  {
   "cell_type": "code",
   "execution_count": 23,
   "id": "e7f39f78",
   "metadata": {},
   "outputs": [],
   "source": [
    "#Collecting feature importances\n",
    "\n",
    "feat_imp = rf.named_steps[\"classifier\"].feature_importances_"
   ]
  },
  {
   "cell_type": "code",
   "execution_count": 24,
   "id": "23f96a93",
   "metadata": {},
   "outputs": [],
   "source": [
    "#Returns the names of columns from the pipeline\n",
    "\n",
    "def get_column_names_from_ColumnTransformer(column_transformer):    \n",
    "    col_name = []\n",
    "    for transformer_in_columns in column_transformer.transformers_:\n",
    "        raw_col_name = transformer_in_columns[2]\n",
    "        if isinstance(transformer_in_columns[1],Pipeline): \n",
    "            transformer = transformer_in_columns[1].steps[-1][1]\n",
    "        else:\n",
    "            transformer = transformer_in_columns[1]\n",
    "        try:\n",
    "            names = transformer.get_feature_names()\n",
    "        except AttributeError: # if no 'get_feature_names' function, use raw column name\n",
    "            names = raw_col_name\n",
    "        if isinstance(names,np.ndarray): # eg.\n",
    "            col_name += names.tolist()\n",
    "        elif isinstance(names,list):\n",
    "            col_name += names    \n",
    "        elif isinstance(names,str):\n",
    "            col_name.append(names)\n",
    "    return col_name"
   ]
  },
  {
   "cell_type": "code",
   "execution_count": 25,
   "id": "47e20446",
   "metadata": {},
   "outputs": [],
   "source": [
    "#Collecting feature names\n",
    "\n",
    "feat_names = get_column_names_from_ColumnTransformer(rf[\"preprocess\"])"
   ]
  },
  {
   "cell_type": "code",
   "execution_count": 26,
   "id": "51c50286",
   "metadata": {},
   "outputs": [],
   "source": [
    "#Mapping feature importances to feature names\n",
    "\n",
    "forest_importances = pd.Series(feat_imp, index=feat_names).sort_values(ascending=False)"
   ]
  },
  {
   "cell_type": "code",
   "execution_count": 27,
   "id": "529d1499",
   "metadata": {},
   "outputs": [
    {
     "data": {
      "text/plain": [
       "<AxesSubplot:>"
      ]
     },
     "execution_count": 27,
     "metadata": {},
     "output_type": "execute_result"
    },
    {
     "data": {
      "image/png": "[encoded data removed]",
      "text/plain": [
       "<Figure size 1080x576 with 1 Axes>"
      ]
     },
     "metadata": {
      "needs_background": "light"
     },
     "output_type": "display_data"
    }
   ],
   "source": [
    "#Visually inspecting importance of each feature\n",
    "\n",
    "fig = plt.gcf()\n",
    "fig.set_size_inches(15, 8)\n",
    "\n",
    "forest_importances.plot.bar()"
   ]
  },
  {
   "cell_type": "markdown",
   "id": "1d5a587f",
   "metadata": {},
   "source": [
    "## Making Recommendation"
   ]
  },
  {
   "cell_type": "code",
   "execution_count": 28,
   "id": "7addab2a",
   "metadata": {},
   "outputs": [
    {
     "name": "stdout",
     "output_type": "stream",
     "text": [
      "Probability of customer existing:  48.6\n",
      "Customer existing:  0\n",
      "Percentage increase in Total_Trans_Ct and Total_Trans_Amt:  1 %\n",
      "*** Loop ended ***\n",
      "\n",
      "Probability of customer existing:  50.2\n",
      "Customer existing:  1\n",
      "Percentage increase in Total_Trans_Ct and Total_Trans_Amt:  2 %\n",
      "*** Loop ended ***\n",
      "\n"
     ]
    }
   ],
   "source": [
    "proba = rf.predict_proba(X_test.iloc[[10]])[0][1]*100\n",
    "fac = 1\n",
    "\n",
    "while proba < 50:\n",
    "    fac += 0.01\n",
    "    \n",
    "    X_temp = X_test.iloc[[10]]\n",
    "    X_temp.Total_Trans_Ct = X_temp.Total_Trans_Ct*fac\n",
    "    X_temp.Total_Trans_Amt = X_temp.Total_Trans_Amt*fac\n",
    "    \n",
    "    proba = rf.predict_proba(X_temp)[0][1]*100\n",
    "    state = rf.predict(X_temp)[0]\n",
    "    \n",
    "    print('Probability of customer existing: ',proba)\n",
    "    print('Customer existing: ',state)\n",
    "    print('Percentage increase in Total_Trans_Ct and Total_Trans_Amt: ',round((fac-1)*100), '%')\n",
    "    print('*** Loop ended ***\\n')"
   ]
  },
  {
   "cell_type": "markdown",
   "id": "132e4510",
   "metadata": {},
   "source": [
    "This suggests that if we encurage the customer @ `X_test.iloc[[10]]` to increase their `Total_Trans_Ct` and `Total_Trans_Amt` by just `2%`, the customer is likely to stay with the bank."
   ]
  },
  {
   "cell_type": "code",
   "execution_count": 33,
   "id": "05963d42",
   "metadata": {},
   "outputs": [
    {
     "data": {
      "text/plain": [
       "Customer_Age                         41\n",
       "Dependent_count                       4\n",
       "Education_Level              Uneducated\n",
       "Income_Category             $40K - $60K\n",
       "Months_on_book                       36\n",
       "Total_Relationship_Count              3\n",
       "Months_Inactive_12_mon                2\n",
       "Contacts_Count_12_mon                 3\n",
       "Credit_Limit                    19704.0\n",
       "Total_Revolving_Bal                   0\n",
       "Total_Amt_Chng_Q4_Q1              0.682\n",
       "Total_Trans_Amt                    7766\n",
       "Total_Trans_Ct                       81\n",
       "Total_Ct_Chng_Q4_Q1                0.62\n",
       "Avg_Utilization_Ratio               0.0\n",
       "Name: 8656, dtype: object"
      ]
     },
     "execution_count": 33,
     "metadata": {},
     "output_type": "execute_result"
    }
   ],
   "source": [
    "churning = X_test.iloc[10]\n",
    "column_name = ['Customer_Age','Gender','Dependent_count','Education_Level','Marital_Status','Income_Category','Card_Category','Months_on_book','Total_Relationship_Count',\n",
    "    'Months_Inactive_12_mon','Contacts_Count_12_mon','Credit_Limit','Total_Revolving_Bal','Total_Amt_Chng_Q4_Q1','Total_Trans_Amt',\n",
    "    'Total_Trans_Ct','Total_Ct_Chng_Q4_Q1','Avg_Utilization_Ratio']\n",
    "df = pd.DataFrame(data =churning , columns= column_name)\n",
    "churning"
   ]
  },
  {
   "cell_type": "code",
   "execution_count": 30,
   "id": "822efda2",
   "metadata": {},
   "outputs": [
    {
     "ename": "KeyError",
     "evalue": "\"None of [Int64Index([10], dtype='int64')] are in the [columns]\"",
     "output_type": "error",
     "traceback": [
      "\u001b[0;31m---------------------------------------------------------------------------\u001b[0m",
      "\u001b[0;31mKeyError\u001b[0m                                  Traceback (most recent call last)",
      "\u001b[0;32m<ipython-input-30-17e61298afa6>\u001b[0m in \u001b[0;36m<module>\u001b[0;34m\u001b[0m\n\u001b[0;32m----> 1\u001b[0;31m \u001b[0mchurning\u001b[0m \u001b[0;34m=\u001b[0m \u001b[0mX_test\u001b[0m\u001b[0;34m[\u001b[0m\u001b[0;34m[\u001b[0m\u001b[0;36m10\u001b[0m\u001b[0;34m]\u001b[0m\u001b[0;34m]\u001b[0m\u001b[0;34m\u001b[0m\u001b[0;34m\u001b[0m\u001b[0m\n\u001b[0m\u001b[1;32m      2\u001b[0m \u001b[0;34m\u001b[0m\u001b[0m\n\u001b[1;32m      3\u001b[0m \u001b[0mproba\u001b[0m \u001b[0;34m=\u001b[0m \u001b[0mrf\u001b[0m\u001b[0;34m.\u001b[0m\u001b[0mpredict_proba\u001b[0m\u001b[0;34m(\u001b[0m\u001b[0mchurning\u001b[0m\u001b[0;34m)\u001b[0m\u001b[0;34m[\u001b[0m\u001b[0;36m0\u001b[0m\u001b[0;34m]\u001b[0m\u001b[0;34m[\u001b[0m\u001b[0;36m1\u001b[0m\u001b[0;34m]\u001b[0m\u001b[0;34m*\u001b[0m\u001b[0;36m100\u001b[0m\u001b[0;34m\u001b[0m\u001b[0;34m\u001b[0m\u001b[0m\n\u001b[1;32m      4\u001b[0m \u001b[0mfac\u001b[0m \u001b[0;34m=\u001b[0m \u001b[0;36m1\u001b[0m\u001b[0;34m\u001b[0m\u001b[0;34m\u001b[0m\u001b[0m\n\u001b[1;32m      5\u001b[0m \u001b[0;34m\u001b[0m\u001b[0m\n",
      "\u001b[0;32m~/.pyenv/versions/3.8.6/envs/GiveMeSomeCredit/lib/python3.8/site-packages/pandas/core/frame.py\u001b[0m in \u001b[0;36m__getitem__\u001b[0;34m(self, key)\u001b[0m\n\u001b[1;32m   3028\u001b[0m             \u001b[0;32mif\u001b[0m \u001b[0mis_iterator\u001b[0m\u001b[0;34m(\u001b[0m\u001b[0mkey\u001b[0m\u001b[0;34m)\u001b[0m\u001b[0;34m:\u001b[0m\u001b[0;34m\u001b[0m\u001b[0;34m\u001b[0m\u001b[0m\n\u001b[1;32m   3029\u001b[0m                 \u001b[0mkey\u001b[0m \u001b[0;34m=\u001b[0m \u001b[0mlist\u001b[0m\u001b[0;34m(\u001b[0m\u001b[0mkey\u001b[0m\u001b[0;34m)\u001b[0m\u001b[0;34m\u001b[0m\u001b[0;34m\u001b[0m\u001b[0m\n\u001b[0;32m-> 3030\u001b[0;31m             \u001b[0mindexer\u001b[0m \u001b[0;34m=\u001b[0m \u001b[0mself\u001b[0m\u001b[0;34m.\u001b[0m\u001b[0mloc\u001b[0m\u001b[0;34m.\u001b[0m\u001b[0m_get_listlike_indexer\u001b[0m\u001b[0;34m(\u001b[0m\u001b[0mkey\u001b[0m\u001b[0;34m,\u001b[0m \u001b[0maxis\u001b[0m\u001b[0;34m=\u001b[0m\u001b[0;36m1\u001b[0m\u001b[0;34m,\u001b[0m \u001b[0mraise_missing\u001b[0m\u001b[0;34m=\u001b[0m\u001b[0;32mTrue\u001b[0m\u001b[0;34m)\u001b[0m\u001b[0;34m[\u001b[0m\u001b[0;36m1\u001b[0m\u001b[0;34m]\u001b[0m\u001b[0;34m\u001b[0m\u001b[0;34m\u001b[0m\u001b[0m\n\u001b[0m\u001b[1;32m   3031\u001b[0m \u001b[0;34m\u001b[0m\u001b[0m\n\u001b[1;32m   3032\u001b[0m         \u001b[0;31m# take() does not accept boolean indexers\u001b[0m\u001b[0;34m\u001b[0m\u001b[0;34m\u001b[0m\u001b[0;34m\u001b[0m\u001b[0m\n",
      "\u001b[0;32m~/.pyenv/versions/3.8.6/envs/GiveMeSomeCredit/lib/python3.8/site-packages/pandas/core/indexing.py\u001b[0m in \u001b[0;36m_get_listlike_indexer\u001b[0;34m(self, key, axis, raise_missing)\u001b[0m\n\u001b[1;32m   1264\u001b[0m             \u001b[0mkeyarr\u001b[0m\u001b[0;34m,\u001b[0m \u001b[0mindexer\u001b[0m\u001b[0;34m,\u001b[0m \u001b[0mnew_indexer\u001b[0m \u001b[0;34m=\u001b[0m \u001b[0max\u001b[0m\u001b[0;34m.\u001b[0m\u001b[0m_reindex_non_unique\u001b[0m\u001b[0;34m(\u001b[0m\u001b[0mkeyarr\u001b[0m\u001b[0;34m)\u001b[0m\u001b[0;34m\u001b[0m\u001b[0;34m\u001b[0m\u001b[0m\n\u001b[1;32m   1265\u001b[0m \u001b[0;34m\u001b[0m\u001b[0m\n\u001b[0;32m-> 1266\u001b[0;31m         \u001b[0mself\u001b[0m\u001b[0;34m.\u001b[0m\u001b[0m_validate_read_indexer\u001b[0m\u001b[0;34m(\u001b[0m\u001b[0mkeyarr\u001b[0m\u001b[0;34m,\u001b[0m \u001b[0mindexer\u001b[0m\u001b[0;34m,\u001b[0m \u001b[0maxis\u001b[0m\u001b[0;34m,\u001b[0m \u001b[0mraise_missing\u001b[0m\u001b[0;34m=\u001b[0m\u001b[0mraise_missing\u001b[0m\u001b[0;34m)\u001b[0m\u001b[0;34m\u001b[0m\u001b[0;34m\u001b[0m\u001b[0m\n\u001b[0m\u001b[1;32m   1267\u001b[0m         \u001b[0;32mreturn\u001b[0m \u001b[0mkeyarr\u001b[0m\u001b[0;34m,\u001b[0m \u001b[0mindexer\u001b[0m\u001b[0;34m\u001b[0m\u001b[0;34m\u001b[0m\u001b[0m\n\u001b[1;32m   1268\u001b[0m \u001b[0;34m\u001b[0m\u001b[0m\n",
      "\u001b[0;32m~/.pyenv/versions/3.8.6/envs/GiveMeSomeCredit/lib/python3.8/site-packages/pandas/core/indexing.py\u001b[0m in \u001b[0;36m_validate_read_indexer\u001b[0;34m(self, key, indexer, axis, raise_missing)\u001b[0m\n\u001b[1;32m   1306\u001b[0m             \u001b[0;32mif\u001b[0m \u001b[0mmissing\u001b[0m \u001b[0;34m==\u001b[0m \u001b[0mlen\u001b[0m\u001b[0;34m(\u001b[0m\u001b[0mindexer\u001b[0m\u001b[0;34m)\u001b[0m\u001b[0;34m:\u001b[0m\u001b[0;34m\u001b[0m\u001b[0;34m\u001b[0m\u001b[0m\n\u001b[1;32m   1307\u001b[0m                 \u001b[0maxis_name\u001b[0m \u001b[0;34m=\u001b[0m \u001b[0mself\u001b[0m\u001b[0;34m.\u001b[0m\u001b[0mobj\u001b[0m\u001b[0;34m.\u001b[0m\u001b[0m_get_axis_name\u001b[0m\u001b[0;34m(\u001b[0m\u001b[0maxis\u001b[0m\u001b[0;34m)\u001b[0m\u001b[0;34m\u001b[0m\u001b[0;34m\u001b[0m\u001b[0m\n\u001b[0;32m-> 1308\u001b[0;31m                 \u001b[0;32mraise\u001b[0m \u001b[0mKeyError\u001b[0m\u001b[0;34m(\u001b[0m\u001b[0;34mf\"None of [{key}] are in the [{axis_name}]\"\u001b[0m\u001b[0;34m)\u001b[0m\u001b[0;34m\u001b[0m\u001b[0;34m\u001b[0m\u001b[0m\n\u001b[0m\u001b[1;32m   1309\u001b[0m \u001b[0;34m\u001b[0m\u001b[0m\n\u001b[1;32m   1310\u001b[0m             \u001b[0max\u001b[0m \u001b[0;34m=\u001b[0m \u001b[0mself\u001b[0m\u001b[0;34m.\u001b[0m\u001b[0mobj\u001b[0m\u001b[0;34m.\u001b[0m\u001b[0m_get_axis\u001b[0m\u001b[0;34m(\u001b[0m\u001b[0maxis\u001b[0m\u001b[0;34m)\u001b[0m\u001b[0;34m\u001b[0m\u001b[0;34m\u001b[0m\u001b[0m\n",
      "\u001b[0;31mKeyError\u001b[0m: \"None of [Int64Index([10], dtype='int64')] are in the [columns]\""
     ]
    }
   ],
   "source": [
    "\n",
    "\n",
    "\n",
    "proba = rf.predict_proba(churning)[0][1]*100\n",
    "fac = 1\n",
    "\n",
    "while proba < 50:\n",
    "    fac += 0.01\n",
    "    \n",
    "    X_temp = churning\n",
    "    X_temp.Total_Trans_Ct = X_temp.Total_Trans_Ct*fac\n",
    "    X_temp.Total_Trans_Amt = X_temp.Total_Trans_Amt*fac\n",
    "    \n",
    "    proba = rf.predict_proba(X_temp)[0][1]*100\n",
    "    state = rf.predict(X_temp)[0]\n",
    "    \n",
    "    print('Probability of customer existing: ',proba)\n",
    "    print('Customer existing: ',state)\n",
    "    print('Percentage increase in Total_Trans_Ct and Total_Trans_Amt: ',round((fac-1)*100), '%')\n",
    "    print('*** Loop ended ***\\n')"
   ]
  },
  {
   "cell_type": "code",
   "execution_count": 31,
   "id": "def8cdec",
   "metadata": {},
   "outputs": [
    {
     "ename": "KeyError",
     "evalue": "\"None of [Int64Index([10], dtype='int64')] are in the [columns]\"",
     "output_type": "error",
     "traceback": [
      "\u001b[0;31m---------------------------------------------------------------------------\u001b[0m",
      "\u001b[0;31mKeyError\u001b[0m                                  Traceback (most recent call last)",
      "\u001b[0;32m<ipython-input-31-8707de8f0798>\u001b[0m in \u001b[0;36m<module>\u001b[0;34m\u001b[0m\n\u001b[0;32m----> 1\u001b[0;31m \u001b[0mX_test\u001b[0m\u001b[0;34m[\u001b[0m\u001b[0;34m[\u001b[0m\u001b[0;36m10\u001b[0m\u001b[0;34m]\u001b[0m\u001b[0;34m]\u001b[0m\u001b[0;34m\u001b[0m\u001b[0;34m\u001b[0m\u001b[0m\n\u001b[0m",
      "\u001b[0;32m~/.pyenv/versions/3.8.6/envs/GiveMeSomeCredit/lib/python3.8/site-packages/pandas/core/frame.py\u001b[0m in \u001b[0;36m__getitem__\u001b[0;34m(self, key)\u001b[0m\n\u001b[1;32m   3028\u001b[0m             \u001b[0;32mif\u001b[0m \u001b[0mis_iterator\u001b[0m\u001b[0;34m(\u001b[0m\u001b[0mkey\u001b[0m\u001b[0;34m)\u001b[0m\u001b[0;34m:\u001b[0m\u001b[0;34m\u001b[0m\u001b[0;34m\u001b[0m\u001b[0m\n\u001b[1;32m   3029\u001b[0m                 \u001b[0mkey\u001b[0m \u001b[0;34m=\u001b[0m \u001b[0mlist\u001b[0m\u001b[0;34m(\u001b[0m\u001b[0mkey\u001b[0m\u001b[0;34m)\u001b[0m\u001b[0;34m\u001b[0m\u001b[0;34m\u001b[0m\u001b[0m\n\u001b[0;32m-> 3030\u001b[0;31m             \u001b[0mindexer\u001b[0m \u001b[0;34m=\u001b[0m \u001b[0mself\u001b[0m\u001b[0;34m.\u001b[0m\u001b[0mloc\u001b[0m\u001b[0;34m.\u001b[0m\u001b[0m_get_listlike_indexer\u001b[0m\u001b[0;34m(\u001b[0m\u001b[0mkey\u001b[0m\u001b[0;34m,\u001b[0m \u001b[0maxis\u001b[0m\u001b[0;34m=\u001b[0m\u001b[0;36m1\u001b[0m\u001b[0;34m,\u001b[0m \u001b[0mraise_missing\u001b[0m\u001b[0;34m=\u001b[0m\u001b[0;32mTrue\u001b[0m\u001b[0;34m)\u001b[0m\u001b[0;34m[\u001b[0m\u001b[0;36m1\u001b[0m\u001b[0;34m]\u001b[0m\u001b[0;34m\u001b[0m\u001b[0;34m\u001b[0m\u001b[0m\n\u001b[0m\u001b[1;32m   3031\u001b[0m \u001b[0;34m\u001b[0m\u001b[0m\n\u001b[1;32m   3032\u001b[0m         \u001b[0;31m# take() does not accept boolean indexers\u001b[0m\u001b[0;34m\u001b[0m\u001b[0;34m\u001b[0m\u001b[0;34m\u001b[0m\u001b[0m\n",
      "\u001b[0;32m~/.pyenv/versions/3.8.6/envs/GiveMeSomeCredit/lib/python3.8/site-packages/pandas/core/indexing.py\u001b[0m in \u001b[0;36m_get_listlike_indexer\u001b[0;34m(self, key, axis, raise_missing)\u001b[0m\n\u001b[1;32m   1264\u001b[0m             \u001b[0mkeyarr\u001b[0m\u001b[0;34m,\u001b[0m \u001b[0mindexer\u001b[0m\u001b[0;34m,\u001b[0m \u001b[0mnew_indexer\u001b[0m \u001b[0;34m=\u001b[0m \u001b[0max\u001b[0m\u001b[0;34m.\u001b[0m\u001b[0m_reindex_non_unique\u001b[0m\u001b[0;34m(\u001b[0m\u001b[0mkeyarr\u001b[0m\u001b[0;34m)\u001b[0m\u001b[0;34m\u001b[0m\u001b[0;34m\u001b[0m\u001b[0m\n\u001b[1;32m   1265\u001b[0m \u001b[0;34m\u001b[0m\u001b[0m\n\u001b[0;32m-> 1266\u001b[0;31m         \u001b[0mself\u001b[0m\u001b[0;34m.\u001b[0m\u001b[0m_validate_read_indexer\u001b[0m\u001b[0;34m(\u001b[0m\u001b[0mkeyarr\u001b[0m\u001b[0;34m,\u001b[0m \u001b[0mindexer\u001b[0m\u001b[0;34m,\u001b[0m \u001b[0maxis\u001b[0m\u001b[0;34m,\u001b[0m \u001b[0mraise_missing\u001b[0m\u001b[0;34m=\u001b[0m\u001b[0mraise_missing\u001b[0m\u001b[0;34m)\u001b[0m\u001b[0;34m\u001b[0m\u001b[0;34m\u001b[0m\u001b[0m\n\u001b[0m\u001b[1;32m   1267\u001b[0m         \u001b[0;32mreturn\u001b[0m \u001b[0mkeyarr\u001b[0m\u001b[0;34m,\u001b[0m \u001b[0mindexer\u001b[0m\u001b[0;34m\u001b[0m\u001b[0;34m\u001b[0m\u001b[0m\n\u001b[1;32m   1268\u001b[0m \u001b[0;34m\u001b[0m\u001b[0m\n",
      "\u001b[0;32m~/.pyenv/versions/3.8.6/envs/GiveMeSomeCredit/lib/python3.8/site-packages/pandas/core/indexing.py\u001b[0m in \u001b[0;36m_validate_read_indexer\u001b[0;34m(self, key, indexer, axis, raise_missing)\u001b[0m\n\u001b[1;32m   1306\u001b[0m             \u001b[0;32mif\u001b[0m \u001b[0mmissing\u001b[0m \u001b[0;34m==\u001b[0m \u001b[0mlen\u001b[0m\u001b[0;34m(\u001b[0m\u001b[0mindexer\u001b[0m\u001b[0;34m)\u001b[0m\u001b[0;34m:\u001b[0m\u001b[0;34m\u001b[0m\u001b[0;34m\u001b[0m\u001b[0m\n\u001b[1;32m   1307\u001b[0m                 \u001b[0maxis_name\u001b[0m \u001b[0;34m=\u001b[0m \u001b[0mself\u001b[0m\u001b[0;34m.\u001b[0m\u001b[0mobj\u001b[0m\u001b[0;34m.\u001b[0m\u001b[0m_get_axis_name\u001b[0m\u001b[0;34m(\u001b[0m\u001b[0maxis\u001b[0m\u001b[0;34m)\u001b[0m\u001b[0;34m\u001b[0m\u001b[0;34m\u001b[0m\u001b[0m\n\u001b[0;32m-> 1308\u001b[0;31m                 \u001b[0;32mraise\u001b[0m \u001b[0mKeyError\u001b[0m\u001b[0;34m(\u001b[0m\u001b[0;34mf\"None of [{key}] are in the [{axis_name}]\"\u001b[0m\u001b[0;34m)\u001b[0m\u001b[0;34m\u001b[0m\u001b[0;34m\u001b[0m\u001b[0m\n\u001b[0m\u001b[1;32m   1309\u001b[0m \u001b[0;34m\u001b[0m\u001b[0m\n\u001b[1;32m   1310\u001b[0m             \u001b[0max\u001b[0m \u001b[0;34m=\u001b[0m \u001b[0mself\u001b[0m\u001b[0;34m.\u001b[0m\u001b[0mobj\u001b[0m\u001b[0;34m.\u001b[0m\u001b[0m_get_axis\u001b[0m\u001b[0;34m(\u001b[0m\u001b[0maxis\u001b[0m\u001b[0;34m)\u001b[0m\u001b[0;34m\u001b[0m\u001b[0;34m\u001b[0m\u001b[0m\n",
      "\u001b[0;31mKeyError\u001b[0m: \"None of [Int64Index([10], dtype='int64')] are in the [columns]\""
     ]
    }
   ],
   "source": [
    "X_test[[10]]"
   ]
  },
  {
   "cell_type": "code",
   "execution_count": 79,
   "id": "e87b4259",
   "metadata": {},
   "outputs": [],
   "source": [
    "def recommendation(churning,model):\n",
    "    churning = churning.iloc[[0]]\n",
    "    print(churning)\n",
    "    proba = model.predict_proba(churning)[0][1]*100\n",
    "    fac = 1\n",
    "    state = 1\n",
    "    while proba < 50:\n",
    "      fac += 0.01\n",
    "      X_temp = churning\n",
    "      X_temp.Total_Trans_Ct = X_temp.Total_Trans_Ct*fac\n",
    "      X_temp.Total_Trans_Amt = X_temp.Total_Trans_Amt*fac\n",
    "      proba = model.predict_proba(X_temp)[0][1]*100\n",
    "      state = model.predict(X_temp)[0]\n",
    "    change = (fac-1)*100\n",
    "    return change, proba, state"
   ]
  },
  {
   "cell_type": "code",
   "execution_count": null,
   "id": "41a33435",
   "metadata": {},
   "outputs": [],
   "source": []
  },
  {
   "cell_type": "code",
   "execution_count": 69,
   "id": "532cea6b",
   "metadata": {},
   "outputs": [
    {
     "name": "stdout",
     "output_type": "stream",
     "text": [
      "      Customer_Age  Dependent_count Education_Level Income_Category  \\\n",
      "3358            44                5      Uneducated     $60K - $80K   \n",
      "\n",
      "      Months_on_book  Total_Relationship_Count  Months_Inactive_12_mon  \\\n",
      "3358              39                         5                       2   \n",
      "\n",
      "      Contacts_Count_12_mon  Credit_Limit  Total_Revolving_Bal  \\\n",
      "3358                      0       16034.0                 1597   \n",
      "\n",
      "      Total_Amt_Chng_Q4_Q1  Total_Trans_Amt  Total_Trans_Ct  \\\n",
      "3358                 0.775             3628              59   \n",
      "\n",
      "      Total_Ct_Chng_Q4_Q1  Avg_Utilization_Ratio  \n",
      "3358                0.903                    0.1  \n"
     ]
    },
    {
     "data": {
      "text/plain": [
       "(0, 99.0, 1)"
      ]
     },
     "execution_count": 69,
     "metadata": {},
     "output_type": "execute_result"
    }
   ],
   "source": [
    "recommendation(X_test, rf)"
   ]
  },
  {
   "cell_type": "code",
   "execution_count": 73,
   "id": "619ffdd2",
   "metadata": {},
   "outputs": [
    {
     "data": {
      "text/html": [
       "<div>\n",
       "<style scoped>\n",
       "    .dataframe tbody tr th:only-of-type {\n",
       "        vertical-align: middle;\n",
       "    }\n",
       "\n",
       "    .dataframe tbody tr th {\n",
       "        vertical-align: top;\n",
       "    }\n",
       "\n",
       "    .dataframe thead th {\n",
       "        text-align: right;\n",
       "    }\n",
       "</style>\n",
       "<table border=\"1\" class=\"dataframe\">\n",
       "  <thead>\n",
       "    <tr style=\"text-align: right;\">\n",
       "      <th></th>\n",
       "      <th>Customer_Age</th>\n",
       "      <th>Gender</th>\n",
       "      <th>Dependent_count</th>\n",
       "      <th>Education_Level</th>\n",
       "      <th>Marital_Status</th>\n",
       "      <th>Income_Category</th>\n",
       "      <th>Card_Category</th>\n",
       "      <th>Months_on_book</th>\n",
       "      <th>Total_Relationship_Count</th>\n",
       "      <th>Months_Inactive_12_mon</th>\n",
       "      <th>Contacts_Count_12_mon</th>\n",
       "      <th>Credit_Limit</th>\n",
       "      <th>Total_Revolving_Bal</th>\n",
       "      <th>Total_Amt_Chng_Q4_Q1</th>\n",
       "      <th>Total_Trans_Amt</th>\n",
       "      <th>Total_Trans_Ct</th>\n",
       "      <th>Total_Ct_Chng_Q4_Q1</th>\n",
       "      <th>Avg_Utilization_Ratio</th>\n",
       "    </tr>\n",
       "  </thead>\n",
       "  <tbody>\n",
       "    <tr>\n",
       "      <th>0</th>\n",
       "      <td>62</td>\n",
       "      <td>F</td>\n",
       "      <td>0</td>\n",
       "      <td>Graduate</td>\n",
       "      <td>Married</td>\n",
       "      <td>Less than $40K</td>\n",
       "      <td>Blue</td>\n",
       "      <td>49</td>\n",
       "      <td>2</td>\n",
       "      <td>3</td>\n",
       "      <td>3</td>\n",
       "      <td>1438.3</td>\n",
       "      <td>0</td>\n",
       "      <td>1.047</td>\n",
       "      <td>692</td>\n",
       "      <td>16</td>\n",
       "      <td>0.6</td>\n",
       "      <td>0.99616</td>\n",
       "    </tr>\n",
       "  </tbody>\n",
       "</table>\n",
       "</div>"
      ],
      "text/plain": [
       "   Customer_Age Gender  Dependent_count Education_Level Marital_Status  \\\n",
       "0            62      F                0        Graduate        Married   \n",
       "\n",
       "  Income_Category Card_Category  Months_on_book  Total_Relationship_Count  \\\n",
       "0  Less than $40K          Blue              49                         2   \n",
       "\n",
       "   Months_Inactive_12_mon  Contacts_Count_12_mon  Credit_Limit  \\\n",
       "0                       3                      3        1438.3   \n",
       "\n",
       "   Total_Revolving_Bal  Total_Amt_Chng_Q4_Q1  Total_Trans_Amt  Total_Trans_Ct  \\\n",
       "0                    0                 1.047              692              16   \n",
       "\n",
       "   Total_Ct_Chng_Q4_Q1  Avg_Utilization_Ratio  \n",
       "0                  0.6                0.99616  "
      ]
     },
     "execution_count": 73,
     "metadata": {},
     "output_type": "execute_result"
    }
   ],
   "source": [
    "input_list = [[62,\"F\",0,\"Graduate\",\"Married\",\"Less than $40K\",\"Blue\",49,2,3,3,1438.3,0,1.047,692,16,0.6,0.99616]]\n",
    "df = pd.DataFrame(data = input_list, columns= column_name)\n",
    "df"
   ]
  },
  {
   "cell_type": "code",
   "execution_count": 74,
   "id": "aa74f56c",
   "metadata": {},
   "outputs": [],
   "source": [
    "def prediction_input(input_list,model):\n",
    "    column_name = ['Customer_Age','Gender','Dependent_count','Education_Level','Marital_Status','Income_Category','Card_Category','Months_on_book','Total_Relationship_Count',\n",
    "    'Months_Inactive_12_mon','Contacts_Count_12_mon','Credit_Limit','Total_Revolving_Bal','Total_Amt_Chng_Q4_Q1','Total_Trans_Amt',\n",
    "    'Total_Trans_Ct','Total_Ct_Chng_Q4_Q1','Avg_Utilization_Ratio']\n",
    "    df = pd.DataFrame(data = input_list, columns= column_name)\n",
    "    #model = joblib.load('credit_new_model.joblib')\n",
    "    prediction = model.predict(df)\n",
    "    df['Prediction'] = prediction\n",
    "    return df"
   ]
  },
  {
   "cell_type": "code",
   "execution_count": 75,
   "id": "66789eb5",
   "metadata": {},
   "outputs": [],
   "source": [
    "result_input = prediction_input(input_list,model)"
   ]
  },
  {
   "cell_type": "code",
   "execution_count": 76,
   "id": "a8c2d993",
   "metadata": {},
   "outputs": [
    {
     "data": {
      "text/html": [
       "<div>\n",
       "<style scoped>\n",
       "    .dataframe tbody tr th:only-of-type {\n",
       "        vertical-align: middle;\n",
       "    }\n",
       "\n",
       "    .dataframe tbody tr th {\n",
       "        vertical-align: top;\n",
       "    }\n",
       "\n",
       "    .dataframe thead th {\n",
       "        text-align: right;\n",
       "    }\n",
       "</style>\n",
       "<table border=\"1\" class=\"dataframe\">\n",
       "  <thead>\n",
       "    <tr style=\"text-align: right;\">\n",
       "      <th></th>\n",
       "      <th>Customer_Age</th>\n",
       "      <th>Gender</th>\n",
       "      <th>Dependent_count</th>\n",
       "      <th>Education_Level</th>\n",
       "      <th>Marital_Status</th>\n",
       "      <th>Income_Category</th>\n",
       "      <th>Card_Category</th>\n",
       "      <th>Months_on_book</th>\n",
       "      <th>Total_Relationship_Count</th>\n",
       "      <th>Months_Inactive_12_mon</th>\n",
       "      <th>Contacts_Count_12_mon</th>\n",
       "      <th>Credit_Limit</th>\n",
       "      <th>Total_Revolving_Bal</th>\n",
       "      <th>Total_Amt_Chng_Q4_Q1</th>\n",
       "      <th>Total_Trans_Amt</th>\n",
       "      <th>Total_Trans_Ct</th>\n",
       "      <th>Total_Ct_Chng_Q4_Q1</th>\n",
       "      <th>Avg_Utilization_Ratio</th>\n",
       "      <th>Prediction</th>\n",
       "    </tr>\n",
       "  </thead>\n",
       "  <tbody>\n",
       "    <tr>\n",
       "      <th>0</th>\n",
       "      <td>62</td>\n",
       "      <td>F</td>\n",
       "      <td>0</td>\n",
       "      <td>Graduate</td>\n",
       "      <td>Married</td>\n",
       "      <td>Less than $40K</td>\n",
       "      <td>Blue</td>\n",
       "      <td>49</td>\n",
       "      <td>2</td>\n",
       "      <td>3</td>\n",
       "      <td>3</td>\n",
       "      <td>1438.3</td>\n",
       "      <td>0</td>\n",
       "      <td>1.047</td>\n",
       "      <td>692</td>\n",
       "      <td>16</td>\n",
       "      <td>0.6</td>\n",
       "      <td>0.99616</td>\n",
       "      <td>0</td>\n",
       "    </tr>\n",
       "  </tbody>\n",
       "</table>\n",
       "</div>"
      ],
      "text/plain": [
       "   Customer_Age Gender  Dependent_count Education_Level Marital_Status  \\\n",
       "0            62      F                0        Graduate        Married   \n",
       "\n",
       "  Income_Category Card_Category  Months_on_book  Total_Relationship_Count  \\\n",
       "0  Less than $40K          Blue              49                         2   \n",
       "\n",
       "   Months_Inactive_12_mon  Contacts_Count_12_mon  Credit_Limit  \\\n",
       "0                       3                      3        1438.3   \n",
       "\n",
       "   Total_Revolving_Bal  Total_Amt_Chng_Q4_Q1  Total_Trans_Amt  Total_Trans_Ct  \\\n",
       "0                    0                 1.047              692              16   \n",
       "\n",
       "   Total_Ct_Chng_Q4_Q1  Avg_Utilization_Ratio  Prediction  \n",
       "0                  0.6                0.99616           0  "
      ]
     },
     "execution_count": 76,
     "metadata": {},
     "output_type": "execute_result"
    }
   ],
   "source": [
    "result_input"
   ]
  },
  {
   "cell_type": "code",
   "execution_count": 77,
   "id": "5d7bd87f",
   "metadata": {},
   "outputs": [],
   "source": [
    "X = result_input[column_name]\n",
    "y = result_input['Prediction']"
   ]
  },
  {
   "cell_type": "code",
   "execution_count": 78,
   "id": "3b19b505",
   "metadata": {},
   "outputs": [
    {
     "data": {
      "text/html": [
       "<div>\n",
       "<style scoped>\n",
       "    .dataframe tbody tr th:only-of-type {\n",
       "        vertical-align: middle;\n",
       "    }\n",
       "\n",
       "    .dataframe tbody tr th {\n",
       "        vertical-align: top;\n",
       "    }\n",
       "\n",
       "    .dataframe thead th {\n",
       "        text-align: right;\n",
       "    }\n",
       "</style>\n",
       "<table border=\"1\" class=\"dataframe\">\n",
       "  <thead>\n",
       "    <tr style=\"text-align: right;\">\n",
       "      <th></th>\n",
       "      <th>Customer_Age</th>\n",
       "      <th>Gender</th>\n",
       "      <th>Dependent_count</th>\n",
       "      <th>Education_Level</th>\n",
       "      <th>Marital_Status</th>\n",
       "      <th>Income_Category</th>\n",
       "      <th>Card_Category</th>\n",
       "      <th>Months_on_book</th>\n",
       "      <th>Total_Relationship_Count</th>\n",
       "      <th>Months_Inactive_12_mon</th>\n",
       "      <th>Contacts_Count_12_mon</th>\n",
       "      <th>Credit_Limit</th>\n",
       "      <th>Total_Revolving_Bal</th>\n",
       "      <th>Total_Amt_Chng_Q4_Q1</th>\n",
       "      <th>Total_Trans_Amt</th>\n",
       "      <th>Total_Trans_Ct</th>\n",
       "      <th>Total_Ct_Chng_Q4_Q1</th>\n",
       "      <th>Avg_Utilization_Ratio</th>\n",
       "    </tr>\n",
       "  </thead>\n",
       "  <tbody>\n",
       "    <tr>\n",
       "      <th>0</th>\n",
       "      <td>62</td>\n",
       "      <td>F</td>\n",
       "      <td>0</td>\n",
       "      <td>Graduate</td>\n",
       "      <td>Married</td>\n",
       "      <td>Less than $40K</td>\n",
       "      <td>Blue</td>\n",
       "      <td>49</td>\n",
       "      <td>2</td>\n",
       "      <td>3</td>\n",
       "      <td>3</td>\n",
       "      <td>1438.3</td>\n",
       "      <td>0</td>\n",
       "      <td>1.047</td>\n",
       "      <td>692</td>\n",
       "      <td>16</td>\n",
       "      <td>0.6</td>\n",
       "      <td>0.99616</td>\n",
       "    </tr>\n",
       "  </tbody>\n",
       "</table>\n",
       "</div>"
      ],
      "text/plain": [
       "   Customer_Age Gender  Dependent_count Education_Level Marital_Status  \\\n",
       "0            62      F                0        Graduate        Married   \n",
       "\n",
       "  Income_Category Card_Category  Months_on_book  Total_Relationship_Count  \\\n",
       "0  Less than $40K          Blue              49                         2   \n",
       "\n",
       "   Months_Inactive_12_mon  Contacts_Count_12_mon  Credit_Limit  \\\n",
       "0                       3                      3        1438.3   \n",
       "\n",
       "   Total_Revolving_Bal  Total_Amt_Chng_Q4_Q1  Total_Trans_Amt  Total_Trans_Ct  \\\n",
       "0                    0                 1.047              692              16   \n",
       "\n",
       "   Total_Ct_Chng_Q4_Q1  Avg_Utilization_Ratio  \n",
       "0                  0.6                0.99616  "
      ]
     },
     "execution_count": 78,
     "metadata": {},
     "output_type": "execute_result"
    }
   ],
   "source": [
    "X"
   ]
  },
  {
   "cell_type": "code",
   "execution_count": 80,
   "id": "791e2513",
   "metadata": {},
   "outputs": [
    {
     "name": "stdout",
     "output_type": "stream",
     "text": [
      "   Customer_Age Gender  Dependent_count Education_Level Marital_Status  \\\n",
      "0            62      F                0        Graduate        Married   \n",
      "\n",
      "  Income_Category Card_Category  Months_on_book  Total_Relationship_Count  \\\n",
      "0  Less than $40K          Blue              49                         2   \n",
      "\n",
      "   Months_Inactive_12_mon  Contacts_Count_12_mon  Credit_Limit  \\\n",
      "0                       3                      3        1438.3   \n",
      "\n",
      "   Total_Revolving_Bal  Total_Amt_Chng_Q4_Q1  Total_Trans_Amt  Total_Trans_Ct  \\\n",
      "0                    0                 1.047              692              16   \n",
      "\n",
      "   Total_Ct_Chng_Q4_Q1  Avg_Utilization_Ratio  \n",
      "0                  0.6                0.99616  \n"
     ]
    }
   ],
   "source": [
    "change, proba, state = recommendation(X,model)"
   ]
  },
  {
   "cell_type": "code",
   "execution_count": 81,
   "id": "be3a5bff",
   "metadata": {},
   "outputs": [
    {
     "data": {
      "text/plain": [
       "(17.000000000000014, 53.2, 1)"
      ]
     },
     "execution_count": 81,
     "metadata": {},
     "output_type": "execute_result"
    }
   ],
   "source": [
    "change, proba, state"
   ]
  },
  {
   "cell_type": "code",
   "execution_count": 86,
   "id": "95275798",
   "metadata": {},
   "outputs": [],
   "source": [
    "X_temp = X.iloc[[0]]\n",
    "X_temp.Total_Trans_Ct = X_temp.Total_Trans_Ct.values[0]*fac\n",
    "X_temp.Total_Trans_Amt = X_temp.Total_Trans_Amt.values[0]*fac"
   ]
  },
  {
   "cell_type": "code",
   "execution_count": 87,
   "id": "782f6788",
   "metadata": {},
   "outputs": [
    {
     "data": {
      "text/plain": [
       "0    16.32\n",
       "Name: Total_Trans_Ct, dtype: float64"
      ]
     },
     "execution_count": 87,
     "metadata": {},
     "output_type": "execute_result"
    }
   ],
   "source": [
    "X_temp.Total_Trans_Ct"
   ]
  },
  {
   "cell_type": "code",
   "execution_count": null,
   "id": "9508c78d",
   "metadata": {},
   "outputs": [],
   "source": []
  }
 ],
 "metadata": {
  "kernelspec": {
   "display_name": "Python 3",
   "language": "python",
   "name": "python3"
  },
  "language_info": {
   "codemirror_mode": {
    "name": "ipython",
    "version": 3
   },
   "file_extension": ".py",
   "mimetype": "text/x-python",
   "name": "python",
   "nbconvert_exporter": "python",
   "pygments_lexer": "ipython3",
   "version": "3.8.6"
  }
 },
 "nbformat": 4,
 "nbformat_minor": 5
}

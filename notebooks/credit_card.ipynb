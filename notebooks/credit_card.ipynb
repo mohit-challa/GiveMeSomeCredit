{
 "cells": [
  {
   "cell_type": "markdown",
   "id": "golden-accounting",
   "metadata": {},
   "source": [
    "# Credit Card Fraud Detection"
   ]
  },
  {
   "cell_type": "code",
   "execution_count": 1,
   "id": "collected-anthropology",
   "metadata": {
    "ExecuteTime": {
     "end_time": "2021-04-19T10:08:36.535738Z",
     "start_time": "2021-04-19T10:08:33.075486Z"
    },
    "tags": [
     "delete"
    ]
   },
   "outputs": [],
   "source": [
    "''' Linear Algebra'''\n",
    "import pandas as pd\n",
    "import numpy as np\n",
    "\n",
    "''' Data visualisation'''\n",
    "import matplotlib.pyplot as plt \n",
    "import seaborn as sns\n",
    "import warnings\n",
    "\n",
    "''' Scikit-Learn'''\n",
    "from sklearn.model_selection import train_test_split\n",
    "from sklearn.preprocessing import StandardScaler, RobustScaler\n",
    "from sklearn.metrics import confusion_matrix\n",
    "\n",
    "''' Imbalanced Classes'''\n",
    "import imblearn\n",
    "from imblearn.over_sampling import SMOTE\n",
    "from imblearn.under_sampling import RandomUnderSampler\n",
    "from imblearn.pipeline import Pipeline\n",
    "\n",
    "''' Tensorflow Keras'''\n",
    "from tensorflow import keras\n",
    "from tensorflow.keras import models\n",
    "from tensorflow.keras import layers\n",
    "from tensorflow.keras.callbacks import EarlyStopping\n",
    "from tensorflow.keras import regularizers\n",
    "from tensorflow.keras.optimizers import Adam\n",
    "from tensorflow.keras.optimizers.schedules import ExponentialDecay\n"
   ]
  },
  {
   "cell_type": "markdown",
   "id": "adverse-advisory",
   "metadata": {},
   "source": [
    "All the previous exercises made you take a closer look at all the different parts of a neural network: the architecture, the compilation and the fitting.\n",
    "\n",
    "Let's now work on a real-life dataset that has **a lot of data**!\n",
    "\n",
    "The data\n",
    "For this open challenge, you will work with data extracted from credit card transactions. As these are sensitive data, from all the 31 columns, only 3 are known: the rest are data that have been transformed to anonymize them (in fact, they are PCA projections of initial data).\n",
    "\n",
    "The other three known columns are:\n",
    "\n",
    "- \"TIME\": the time elapsed between the transaction and the first transaction in the dataset\n",
    "- \"AMOUNT\": the amount of the transaction\n",
    "- \"CLASS\" (our target): 0 means that the transaction is valid whereas 1 means that it is a fraud.\n",
    "\n",
    "❓ **Question** ❓ Start by downloading the data on the Kaggle website here [here](https://www.kaggle.com/mlg-ulb/creditcardfraud) and load data to create `X` and `y`"
   ]
  },
  {
   "cell_type": "code",
   "execution_count": 2,
   "id": "304ea346",
   "metadata": {
    "ExecuteTime": {
     "end_time": "2021-04-19T10:08:38.101732Z",
     "start_time": "2021-04-19T10:08:36.539490Z"
    },
    "tags": [
     "delete"
    ]
   },
   "outputs": [],
   "source": [
    "# Load data\n",
    "df = pd.read_csv(\"creditcard.csv\")"
   ]
  },
  {
   "cell_type": "code",
   "execution_count": 3,
   "id": "86bdf199",
   "metadata": {
    "ExecuteTime": {
     "end_time": "2021-04-19T10:08:38.143689Z",
     "start_time": "2021-04-19T10:08:38.104538Z"
    },
    "tags": [
     "delete"
    ]
   },
   "outputs": [],
   "source": [
    "# Select data\n",
    "X = df.drop(columns=['Class'],axis=1).values\n",
    "y = df['Class'].values"
   ]
  },
  {
   "cell_type": "markdown",
   "id": "descending-glasgow",
   "metadata": {},
   "source": [
    "## 1. Rebalancing classes"
   ]
  },
  {
   "cell_type": "code",
   "execution_count": 4,
   "id": "2f5462da",
   "metadata": {
    "ExecuteTime": {
     "end_time": "2021-04-19T10:08:38.156709Z",
     "start_time": "2021-04-19T10:08:38.145874Z"
    }
   },
   "outputs": [
    {
     "data": {
      "text/plain": [
       "0    284315\n",
       "1       492\n",
       "dtype: int64"
      ]
     },
     "execution_count": 4,
     "metadata": {},
     "output_type": "execute_result"
    }
   ],
   "source": [
    "# Let's check class balance\n",
    "pd.Series(y).value_counts()"
   ]
  },
  {
   "cell_type": "markdown",
   "id": "dc611794",
   "metadata": {},
   "source": [
    "☝️ in this `fraud detection` challenge, the classes are extremely imbalanced:\n",
    "* 99.8 % of normal transactions\n",
    "* 0.2 % of fraudulent transactions\n",
    "\n",
    "We won't be able to detect frauds unless we apply some serious rebalancing strategies!\n",
    "\n",
    "❓ **Question** ❓\n",
    "1. **First**, create three separate Train/Val/Test splits from your dataset. It is extremely important to keep validation and testing sets **not rebalanced** so as to evaluate your model in true conditions without data leak. Keep your test set for the very last cell of this notebook only.\n",
    "\n",
    "&nbsp;\n",
    "2. **Second**, rebalance you training set (and only this one). You have many choices:\n",
    "\n",
    "- Simply oversample the minority class randomly using plain numpy functions.\n",
    "- Or use <a href=\"https://machinelearningmastery.com/smote-oversampling-for-imbalanced-classification/\">Synthetic Minority Oversampling Technique</a> to generate new datapoints by weighting the existing ones\n",
    "- In addition, try also <a href=\"https://machinelearningmastery.com/random-oversampling-and-undersampling-for-imbalanced-classification/\">RandomUnderSampler</a> to downsample a little bit the majority class"
   ]
  },
  {
   "cell_type": "code",
   "execution_count": 5,
   "id": "44628a97",
   "metadata": {
    "ExecuteTime": {
     "end_time": "2021-04-19T10:08:38.160660Z",
     "start_time": "2021-04-19T10:08:38.158321Z"
    }
   },
   "outputs": [],
   "source": [
    "# YOUR CODE HERE"
   ]
  },
  {
   "cell_type": "code",
   "execution_count": 104,
   "id": "3303a036",
   "metadata": {
    "ExecuteTime": {
     "end_time": "2021-04-19T15:58:10.723229Z",
     "start_time": "2021-04-19T15:58:10.718732Z"
    },
    "tags": [
     "delete_begin"
    ]
   },
   "outputs": [],
   "source": [
    "# Train test split before any resampling to keep real test set\n",
    "X_train, X_test, y_train, y_test = train_test_split(X, y, test_size = 0.3)"
   ]
  },
  {
   "cell_type": "code",
   "execution_count": 7,
   "id": "efcf9456",
   "metadata": {
    "ExecuteTime": {
     "end_time": "2021-04-19T10:08:38.360109Z",
     "start_time": "2021-04-19T10:08:38.357134Z"
    }
   },
   "outputs": [
    {
     "name": "stdout",
     "output_type": "stream",
     "text": [
      "(139554, 30)\n",
      "(59810, 30)\n",
      "(85443, 30)\n"
     ]
    }
   ],
   "source": [
    "print(X_train.shape)\n",
    "print(X_val.shape)\n",
    "print(X_test.shape)"
   ]
  },
  {
   "cell_type": "code",
   "execution_count": 8,
   "id": "927abd12",
   "metadata": {
    "ExecuteTime": {
     "end_time": "2021-04-19T10:08:38.370113Z",
     "start_time": "2021-04-19T10:08:38.364691Z"
    }
   },
   "outputs": [
    {
     "name": "stdout",
     "output_type": "stream",
     "text": [
      "213\n",
      "108\n",
      "171\n"
     ]
    }
   ],
   "source": [
    "# How many \"fraud\" sample do I have in each series?\n",
    "print(np.sum(y_train[y_train == 1]))\n",
    "print(np.sum(y_val[y_val == 1]))\n",
    "print(np.sum(y_test[y_test == 1]))"
   ]
  },
  {
   "cell_type": "code",
   "execution_count": 9,
   "id": "encouraging-trustee",
   "metadata": {
    "ExecuteTime": {
     "end_time": "2021-04-19T10:08:38.374575Z",
     "start_time": "2021-04-19T10:08:38.372223Z"
    }
   },
   "outputs": [],
   "source": [
    "# Sampling strategies\n",
    "over = SMOTE(sampling_strategy=0.5)\n",
    "under = RandomUnderSampler(sampling_strategy=0.5)"
   ]
  },
  {
   "cell_type": "code",
   "execution_count": 10,
   "id": "ed836857",
   "metadata": {
    "ExecuteTime": {
     "end_time": "2021-04-19T10:08:38.379069Z",
     "start_time": "2021-04-19T10:08:38.376393Z"
    }
   },
   "outputs": [],
   "source": [
    "# Pipelining the two strategies\n",
    "steps =  [('o', over), ('u', under)]\n",
    "pipeline = Pipeline(steps=steps)"
   ]
  },
  {
   "cell_type": "code",
   "execution_count": 11,
   "id": "lasting-seventh",
   "metadata": {
    "ExecuteTime": {
     "end_time": "2021-04-19T10:08:38.580753Z",
     "start_time": "2021-04-19T10:08:38.382083Z"
    }
   },
   "outputs": [],
   "source": [
    "# Rebalance the dataset\n",
    "X_train_resampled, y_train_resampled = pipeline.fit_resample(X_train, y_train)"
   ]
  },
  {
   "cell_type": "code",
   "execution_count": 12,
   "id": "9727ea6f",
   "metadata": {
    "ExecuteTime": {
     "end_time": "2021-04-19T10:08:38.864210Z",
     "start_time": "2021-04-19T10:08:38.583991Z"
    }
   },
   "outputs": [],
   "source": [
    "# Reshuffle the resampled data just to be sure\n",
    "stacked_resampled_data = np.hstack([X_train_resampled, y_train_resampled.reshape(-1,1)])\n",
    "np.random.shuffle(stacked_resampled_data)\n",
    "\n",
    "X_train_resampled = stacked_resampled_data[:,:30]\n",
    "y_train_resampled = stacked_resampled_data[:,-1]"
   ]
  },
  {
   "cell_type": "code",
   "execution_count": 13,
   "id": "romance-candy",
   "metadata": {
    "ExecuteTime": {
     "end_time": "2021-04-19T10:08:39.104068Z",
     "start_time": "2021-04-19T10:08:38.866926Z"
    }
   },
   "outputs": [
    {
     "data": {
      "image/png": "[encoded data removed]",
      "text/plain": [
       "<Figure size 1296x288 with 2 Axes>"
      ]
     },
     "metadata": {
      "needs_background": "light"
     },
     "output_type": "display_data"
    }
   ],
   "source": [
    "# plotting\n",
    "warnings.filterwarnings('ignore')\n",
    "fig, ax = plt.subplots(1, 2, figsize=(18,4))\n",
    "\n",
    "''' Before rebalancing classes'''\n",
    "\n",
    "sns.countplot(y_train, ax=ax[0], color='b')\n",
    "ax[0].set_title('Y_train before balancing', fontsize=14)\n",
    "\n",
    "''' After rebalancing classes'''\n",
    "\n",
    "sns.countplot(y_train_resampled, ax=ax[1], color='b')\n",
    "ax[1].set_title('Y_train after balancing', fontsize=14);"
   ]
  },
  {
   "cell_type": "code",
   "execution_count": 14,
   "id": "0460455e",
   "metadata": {
    "ExecuteTime": {
     "end_time": "2021-04-19T10:08:39.108906Z",
     "start_time": "2021-04-19T10:08:39.106175Z"
    },
    "tags": [
     "delete_end"
    ]
   },
   "outputs": [
    {
     "name": "stdout",
     "output_type": "stream",
     "text": [
      "(209010, 30)\n",
      "(59810, 30)\n"
     ]
    }
   ],
   "source": [
    "print(X_train_resampled.shape)\n",
    "print(X_val.shape)"
   ]
  },
  {
   "cell_type": "markdown",
   "id": "subsequent-blues",
   "metadata": {},
   "source": [
    "## 2. Neural Network iterations\n",
    "\n",
    "Now that you have rebalanced your classes, try to fit a neural network to optimize your test score. Feel free to use the following hints:\n",
    "\n",
    "- Normalize your inputs!\n",
    "    - Use preferably a [`Normalization`](https://www.tensorflow.org/api_docs/python/tf/keras/layers/experimental/preprocessing/Normalization) layer inside the model to \"pipeline\" your preprocessing within your model. \n",
    "    - Or use sklearn's [`StandardScaler`](https://scikit-learn.org/stable/modules/generated/sklearn.preprocessing.StandardScaler.html) outside of your model, applied your `X_train` and `X_val` and `X_test`.\n",
    "- Make model overfit, then, regularize using\n",
    "    - Early Stopping criteria \n",
    "    - [`Dropout`](https://www.tensorflow.org/api_docs/python/tf/keras/layers/Dropout) layers\n",
    "    - or [`regularizers`](https://www.tensorflow.org/api_docs/python/tf/keras/regularizers) layers\n",
    "- 🚨 Think carefully about the metric you want to track and the loss you want to use ?\n"
   ]
  },
  {
   "cell_type": "code",
   "execution_count": 15,
   "id": "98cc692d",
   "metadata": {
    "ExecuteTime": {
     "end_time": "2021-04-19T10:08:39.112654Z",
     "start_time": "2021-04-19T10:08:39.110882Z"
    }
   },
   "outputs": [],
   "source": [
    "# YOUR CODE HERE"
   ]
  },
  {
   "cell_type": "code",
   "execution_count": 16,
   "id": "f5ecce6f",
   "metadata": {
    "ExecuteTime": {
     "end_time": "2021-04-19T10:08:39.131393Z",
     "start_time": "2021-04-19T10:08:39.114667Z"
    },
    "tags": [
     "delete_begin"
    ]
   },
   "outputs": [],
   "source": [
    "metrics = [\n",
    "    keras.metrics.Recall(),\n",
    "    keras.metrics.Precision(),\n",
    "    keras.metrics.AUC(name='prc', curve='PR'),  # precision-recall curve\n",
    "]"
   ]
  },
  {
   "cell_type": "code",
   "execution_count": 63,
   "id": "35c362c2",
   "metadata": {
    "ExecuteTime": {
     "end_time": "2021-04-19T12:38:47.556056Z",
     "start_time": "2021-04-19T12:38:47.548545Z"
    }
   },
   "outputs": [],
   "source": [
    "from tensorflow.keras.layers.experimental.preprocessing import Normalization\n",
    "from tensorflow.keras.metrics import Recall, Precision\n",
    "\n",
    "def init_model():\n",
    "    input_shape = X_train_resampled.shape[1:]\n",
    "    normalizer = Normalization()\n",
    "    normalizer.adapt(X_train_resampled)\n",
    "    \n",
    "    model = models.Sequential()\n",
    "    model.add(normalizer)\n",
    "    model.add(layers.Dense(32, activation='relu'))\n",
    "    model.add(layers.Dropout(0.3))\n",
    "    model.add(layers.Dense(16, activation='relu'))\n",
    "    model.add(layers.Dropout(0.3))\n",
    "    model.add(layers.Dense(8, activation='relu'))\n",
    "    model.add(layers.Dropout(0.3))\n",
    "    model.add(layers.Dense(1, activation = 'sigmoid'))\n",
    "\n",
    "    # Model compilation\n",
    "    optimizer = Adam(lr=0.0001)\n",
    "    model.compile(loss='binary_crossentropy',\n",
    "                  optimizer=optimizer,\n",
    "                  metrics=metrics)\n",
    "    return model"
   ]
  },
  {
   "cell_type": "markdown",
   "id": "209abc5a",
   "metadata": {},
   "source": [
    "### Regularized model"
   ]
  },
  {
   "cell_type": "code",
   "execution_count": 65,
   "id": "363f82be",
   "metadata": {
    "ExecuteTime": {
     "end_time": "2021-04-19T12:38:54.113789Z",
     "start_time": "2021-04-19T12:38:53.963449Z"
    }
   },
   "outputs": [],
   "source": [
    "model = init_model()\n",
    "#model.summary()"
   ]
  },
  {
   "cell_type": "code",
   "execution_count": 59,
   "id": "a3ea0b09",
   "metadata": {
    "ExecuteTime": {
     "end_time": "2021-04-19T12:36:57.430659Z",
     "start_time": "2021-04-19T12:36:57.282876Z"
    }
   },
   "outputs": [
    {
     "data": {
      "image/png": "[encoded data removed]",
      "text/plain": [
       "<Figure size 432x288 with 1 Axes>"
      ]
     },
     "metadata": {
      "needs_background": "light"
     },
     "output_type": "display_data"
    }
   ],
   "source": [
    "plot_history(history, \"recall\")"
   ]
  },
  {
   "cell_type": "code",
   "execution_count": 69,
   "id": "15c5e54e",
   "metadata": {
    "ExecuteTime": {
     "end_time": "2021-04-19T12:41:20.157448Z",
     "start_time": "2021-04-19T12:40:38.630493Z"
    }
   },
   "outputs": [
    {
     "name": "stdout",
     "output_type": "stream",
     "text": [
      "Epoch 1/100\n",
      "3266/3266 [==============================] - 4s 1ms/step - loss: 0.1247 - recall: 0.9087 - precision: 0.9753 - prc: 0.9803 - val_loss: 0.0233 - val_recall: 0.8241 - val_precision: 0.2160 - val_prc: 0.7012\n",
      "Epoch 2/100\n",
      "3266/3266 [==============================] - 4s 1ms/step - loss: 0.0963 - recall: 0.9287 - precision: 0.9790 - prc: 0.9871 - val_loss: 0.0231 - val_recall: 0.8333 - val_precision: 0.1957 - val_prc: 0.7029\n",
      "Epoch 3/100\n",
      "3266/3266 [==============================] - 4s 1ms/step - loss: 0.0796 - recall: 0.9455 - precision: 0.9786 - prc: 0.9911 - val_loss: 0.0236 - val_recall: 0.8333 - val_precision: 0.1779 - val_prc: 0.7386\n",
      "Epoch 4/100\n",
      "3266/3266 [==============================] - 4s 1ms/step - loss: 0.0686 - recall: 0.9542 - precision: 0.9782 - prc: 0.9936 - val_loss: 0.0243 - val_recall: 0.8333 - val_precision: 0.1607 - val_prc: 0.7394\n",
      "Epoch 5/100\n",
      "3266/3266 [==============================] - 4s 1ms/step - loss: 0.0593 - recall: 0.9597 - precision: 0.9779 - prc: 0.9951 - val_loss: 0.0226 - val_recall: 0.8333 - val_precision: 0.1711 - val_prc: 0.7420\n",
      "Epoch 6/100\n",
      "3266/3266 [==============================] - 4s 1ms/step - loss: 0.0526 - recall: 0.9666 - precision: 0.9779 - prc: 0.9962 - val_loss: 0.0207 - val_recall: 0.8333 - val_precision: 0.1978 - val_prc: 0.7417\n",
      "Epoch 7/100\n",
      "3266/3266 [==============================] - 4s 1ms/step - loss: 0.0482 - recall: 0.9692 - precision: 0.9799 - prc: 0.9967 - val_loss: 0.0214 - val_recall: 0.8426 - val_precision: 0.1853 - val_prc: 0.7432\n",
      "Epoch 8/100\n",
      "3266/3266 [==============================] - 4s 1ms/step - loss: 0.0455 - recall: 0.9738 - precision: 0.9800 - prc: 0.9972 - val_loss: 0.0207 - val_recall: 0.8426 - val_precision: 0.2031 - val_prc: 0.7460\n",
      "Epoch 9/100\n",
      "3266/3266 [==============================] - 4s 1ms/step - loss: 0.0407 - recall: 0.9756 - precision: 0.9817 - prc: 0.9976 - val_loss: 0.0212 - val_recall: 0.8426 - val_precision: 0.2126 - val_prc: 0.7468\n",
      "Epoch 10/100\n",
      "3266/3266 [==============================] - 4s 1ms/step - loss: 0.0378 - recall: 0.9783 - precision: 0.9827 - prc: 0.9978 - val_loss: 0.0207 - val_recall: 0.8426 - val_precision: 0.2388 - val_prc: 0.7460\n",
      "Epoch 11/100\n",
      "3266/3266 [==============================] - 4s 1ms/step - loss: 0.0353 - recall: 0.9804 - precision: 0.9842 - prc: 0.9980 - val_loss: 0.0202 - val_recall: 0.8426 - val_precision: 0.2645 - val_prc: 0.7474\n"
     ]
    }
   ],
   "source": [
    "es = EarlyStopping(\n",
    "    patience=10,\n",
    "    monitor='val_recall', # We really want to detect fraudulent transactions!\n",
    "    restore_best_weights=True)\n",
    "\n",
    "history = model.fit(X_train_resampled, y_train_resampled,\n",
    "                    validation_data=(X_val, y_val),\n",
    "                    epochs=100,\n",
    "                    batch_size=64, # Large enough to get a decent chance of conatining fraudulent transactions \n",
    "                    callbacks=[es], shuffle=True)"
   ]
  },
  {
   "cell_type": "code",
   "execution_count": 57,
   "id": "reduced-remark",
   "metadata": {
    "ExecuteTime": {
     "end_time": "2021-04-19T12:36:53.611676Z",
     "start_time": "2021-04-19T12:36:53.605919Z"
    }
   },
   "outputs": [],
   "source": [
    "def plot_history(history, metric):\n",
    "    plt.plot(history.history[f'{metric}'])\n",
    "    plt.plot(history.history[f'val_{metric}'])\n",
    "    plt.title(f'Model {metric}')\n",
    "    plt.ylabel(f'{metric}')\n",
    "    plt.xlabel('Epoch')\n",
    "    plt.legend(['Train', 'Val'], loc='best')\n",
    "    plt.show()"
   ]
  },
  {
   "cell_type": "code",
   "execution_count": 70,
   "id": "640e1921",
   "metadata": {
    "ExecuteTime": {
     "end_time": "2021-04-19T12:41:20.287193Z",
     "start_time": "2021-04-19T12:41:20.159299Z"
    }
   },
   "outputs": [
    {
     "data": {
      "image/png": "[encoded data removed]",
      "text/plain": [
       "<Figure size 432x288 with 1 Axes>"
      ]
     },
     "metadata": {
      "needs_background": "light"
     },
     "output_type": "display_data"
    }
   ],
   "source": [
    "plot_history(history, \"loss\")"
   ]
  },
  {
   "cell_type": "code",
   "execution_count": 71,
   "id": "1bdf9fb0",
   "metadata": {
    "ExecuteTime": {
     "end_time": "2021-04-19T12:41:20.414898Z",
     "start_time": "2021-04-19T12:41:20.289932Z"
    },
    "tags": [
     "delete_end"
    ]
   },
   "outputs": [
    {
     "data": {
      "image/png": "[encoded data removed]",
      "text/plain": [
       "<Figure size 432x288 with 1 Axes>"
      ]
     },
     "metadata": {
      "needs_background": "light"
     },
     "output_type": "display_data"
    }
   ],
   "source": [
    "plot_history(history, \"recall\")"
   ]
  },
  {
   "cell_type": "markdown",
   "id": "particular-thomas",
   "metadata": {},
   "source": [
    "## 3. Score your model on unseen Test set\n",
    "\n",
    "❓ **Question** ❓: Compute your confusion matrix and classification report on the test set"
   ]
  },
  {
   "cell_type": "code",
   "execution_count": 24,
   "id": "invalid-learning",
   "metadata": {
    "ExecuteTime": {
     "end_time": "2021-04-19T10:08:55.701969Z",
     "start_time": "2021-04-19T10:08:54.298358Z"
    },
    "tags": [
     "delete_begin"
    ]
   },
   "outputs": [
    {
     "data": {
      "text/plain": [
       "{'loss': 0.0626240223646164,\n",
       " 'recall': 0.8011695742607117,\n",
       " 'precision': 0.7061855792999268,\n",
       " 'prc': 0.6953915357589722}"
      ]
     },
     "execution_count": 24,
     "metadata": {},
     "output_type": "execute_result"
    }
   ],
   "source": [
    "model.evaluate(X_test, y_test, verbose=0, return_dict=True)"
   ]
  },
  {
   "cell_type": "code",
   "execution_count": 25,
   "id": "4ff9a935",
   "metadata": {
    "ExecuteTime": {
     "end_time": "2021-04-19T10:08:56.613994Z",
     "start_time": "2021-04-19T10:08:55.703989Z"
    }
   },
   "outputs": [],
   "source": [
    "y_pred_proba = model.predict(X_test)"
   ]
  },
  {
   "cell_type": "code",
   "execution_count": 26,
   "id": "8a0782aa",
   "metadata": {
    "ExecuteTime": {
     "end_time": "2021-04-19T10:08:56.618263Z",
     "start_time": "2021-04-19T10:08:56.615732Z"
    }
   },
   "outputs": [],
   "source": [
    "y_pred_binary = np.where(y_pred_proba > 0.5, 1, 0 )"
   ]
  },
  {
   "cell_type": "markdown",
   "id": "fifty-cologne",
   "metadata": {},
   "source": [
    "### Confusion Matrix"
   ]
  },
  {
   "cell_type": "code",
   "execution_count": 27,
   "id": "intimate-harrison",
   "metadata": {
    "ExecuteTime": {
     "end_time": "2021-04-19T10:08:56.674896Z",
     "start_time": "2021-04-19T10:08:56.620242Z"
    }
   },
   "outputs": [
    {
     "data": {
      "text/plain": [
       "array([[85215,    57],\n",
       "       [   34,   137]])"
      ]
     },
     "execution_count": 27,
     "metadata": {},
     "output_type": "execute_result"
    }
   ],
   "source": [
    "# Confusion Matrix\n",
    "cm = confusion_matrix(y_test,y_pred_binary)\n",
    "cm"
   ]
  },
  {
   "cell_type": "code",
   "execution_count": 28,
   "id": "ba9fd756",
   "metadata": {
    "ExecuteTime": {
     "end_time": "2021-04-19T10:08:56.836921Z",
     "start_time": "2021-04-19T10:08:56.676934Z"
    }
   },
   "outputs": [
    {
     "data": {
      "text/plain": [
       "Text(0.5, 24.0, 'Predicted label')"
      ]
     },
     "execution_count": 28,
     "metadata": {},
     "output_type": "execute_result"
    },
    {
     "data": {
      "image/png": "[encoded data removed]",
      "text/plain": [
       "<Figure size 360x360 with 2 Axes>"
      ]
     },
     "metadata": {
      "needs_background": "light"
     },
     "output_type": "display_data"
    }
   ],
   "source": [
    "plt.figure(figsize=(5,5))\n",
    "sns.heatmap(cm, annot=True, fmt=\"d\")\n",
    "plt.title('Confusion matrix')\n",
    "plt.ylabel('Actual label')\n",
    "plt.xlabel('Predicted label')"
   ]
  },
  {
   "cell_type": "code",
   "execution_count": 38,
   "id": "dietary-collaboration",
   "metadata": {
    "ExecuteTime": {
     "end_time": "2021-04-19T10:12:16.341597Z",
     "start_time": "2021-04-19T10:12:16.267801Z"
    }
   },
   "outputs": [
    {
     "name": "stdout",
     "output_type": "stream",
     "text": [
      "              precision    recall  f1-score   support\n",
      "\n",
      "           0       1.00      1.00      1.00     85272\n",
      "           1       0.71      0.80      0.75       171\n",
      "\n",
      "    accuracy                           1.00     85443\n",
      "   macro avg       0.85      0.90      0.88     85443\n",
      "weighted avg       1.00      1.00      1.00     85443\n",
      "\n"
     ]
    }
   ],
   "source": [
    "from sklearn.metrics import classification_report\n",
    "print(classification_report(y_test,y_pred_binary))"
   ]
  },
  {
   "cell_type": "code",
   "execution_count": 30,
   "id": "cebae993",
   "metadata": {
    "ExecuteTime": {
     "end_time": "2021-04-19T10:08:56.922323Z",
     "start_time": "2021-04-19T10:08:56.918281Z"
    }
   },
   "outputs": [],
   "source": [
    "from sklearn.metrics import precision_recall_curve\n",
    "\n",
    "def plot_prc(name, labels, predictions, **kwargs):\n",
    "    precision, recall, _ = precision_recall_curve(labels, predictions)\n",
    "    plt.plot(precision, recall, label=name, linewidth=2, **kwargs)\n",
    "    plt.xlabel('Recall')\n",
    "    plt.ylabel('Precision')\n",
    "    plt.grid(True)\n",
    "    ax = plt.gca()\n",
    "    ax.set_aspect('equal')"
   ]
  },
  {
   "cell_type": "code",
   "execution_count": 31,
   "id": "6b28afe1",
   "metadata": {
    "ExecuteTime": {
     "end_time": "2021-04-19T10:08:57.080154Z",
     "start_time": "2021-04-19T10:08:56.924904Z"
    },
    "tags": [
     "delete_end"
    ]
   },
   "outputs": [
    {
     "data": {
      "text/plain": [
       "<matplotlib.legend.Legend at 0x16dc99d90>"
      ]
     },
     "execution_count": 31,
     "metadata": {},
     "output_type": "execute_result"
    },
    {
     "data": {
      "image/png": "[encoded data removed]",
      "text/plain": [
       "<Figure size 432x288 with 1 Axes>"
      ]
     },
     "metadata": {
      "needs_background": "light"
     },
     "output_type": "display_data"
    }
   ],
   "source": [
    "plot_prc(\"Test\", y_test, y_pred_proba, linestyle='--')\n",
    "plt.legend(loc='lower right')"
   ]
  },
  {
   "cell_type": "markdown",
   "id": "1a810a23",
   "metadata": {},
   "source": [
    "### 🧪 Test your score"
   ]
  },
  {
   "cell_type": "markdown",
   "id": "c6ae64bb",
   "metadata": {},
   "source": [
    "Store below your real test performance on a (`X_test`, `y_test`) representative sample of the original unbalance dataset"
   ]
  },
  {
   "cell_type": "code",
   "execution_count": 32,
   "id": "ff087118",
   "metadata": {
    "ExecuteTime": {
     "end_time": "2021-04-19T10:08:57.085268Z",
     "start_time": "2021-04-19T10:08:57.082369Z"
    }
   },
   "outputs": [],
   "source": [
    "precision = 0 # ??\n",
    "recall = 0 # ??"
   ]
  },
  {
   "cell_type": "code",
   "execution_count": 33,
   "id": "bd909430",
   "metadata": {
    "ExecuteTime": {
     "end_time": "2021-04-19T10:08:57.090838Z",
     "start_time": "2021-04-19T10:08:57.087301Z"
    },
    "tags": [
     "delete"
    ]
   },
   "outputs": [],
   "source": [
    "precision = 0.5\n",
    "recall = 0.8"
   ]
  },
  {
   "cell_type": "code",
   "execution_count": 39,
   "id": "576560b4",
   "metadata": {
    "ExecuteTime": {
     "end_time": "2021-04-19T10:13:51.168605Z",
     "start_time": "2021-04-19T10:13:49.951848Z"
    }
   },
   "outputs": [
    {
     "name": "stdout",
     "output_type": "stream",
     "text": [
      "============================= test session starts ==============================\n",
      "platform darwin -- Python 3.8.6, pytest-6.2.3, py-1.10.0, pluggy-0.13.1 -- /Users/brunolajoie/.pyenv/versions/3.8.6/envs/lewagon/bin/python3.8\n",
      "cachedir: .pytest_cache\n",
      "rootdir: /Users/brunolajoie/code/lewagon/data-solutions/06-Deep-Learning/02-Optimizer-loss-and-fitting/04-Credit-Card-Challenge\n",
      "plugins: anyio-2.2.0, dash-1.20.0, pylint-0.18.0\n",
      "collecting ... collected 2 items\n",
      "\n",
      "tests/test_solution.py::TestSolution::test_is_score_good_enough PASSED   [ 50%]\n",
      "tests/test_solution.py::TestSolution::test_is_test_set_representative PASSED [100%]\n",
      "\n",
      "============================== 2 passed in 0.01s ===============================\n",
      "\n",
      "\n",
      "💯 You can commit your code:\n",
      "\n",
      "\u001b[1;32mgit\u001b[39m add tests/solution.pickle\n",
      "\n",
      "\u001b[32mgit\u001b[39m commit -m \u001b[33m'Completed solution step'\u001b[39m\n",
      "\n",
      "\u001b[32mgit\u001b[39m push origin master\n"
     ]
    }
   ],
   "source": [
    "from nbresult import ChallengeResult\n",
    "\n",
    "result = ChallengeResult('solution',\n",
    "    precision=precision,\n",
    "    recall=recall,\n",
    "    fraud_number=len(y_test[y_test == 1]),\n",
    "    non_fraud_number=len(y_test[y_test == 0]),\n",
    ")\n",
    "\n",
    "result.write()\n",
    "print(result.check())"
   ]
  },
  {
   "cell_type": "markdown",
   "id": "3db1e216",
   "metadata": {},
   "source": [
    "## 🏁 Optional : Read Google's solution for this challenge\n",
    "Congratulation for finishing all challenges for this session!\n",
    "\n",
    "To conclude, take some time to read Google's own solution direcly [on Colab here](https://colab.research.google.com/github/tensorflow/docs/blob/master/site/en/tutorials/structured_data/imbalanced_data.ipynb). You will discover interesting techniques and best practices\n"
   ]
  }
 ],
 "metadata": {
  "celltoolbar": "Tags",
  "kernelspec": {
   "display_name": "Python 3",
   "language": "python",
   "name": "python3"
  },
  "language_info": {
   "codemirror_mode": {
    "name": "ipython",
    "version": 3
   },
   "file_extension": ".py",
   "mimetype": "text/x-python",
   "name": "python",
   "nbconvert_exporter": "python",
   "pygments_lexer": "ipython3",
   "version": "3.8.6"
  },
  "toc": {
   "base_numbering": 1,
   "nav_menu": {},
   "number_sections": false,
   "sideBar": true,
   "skip_h1_title": true,
   "title_cell": "Table of Contents",
   "title_sidebar": "Contents",
   "toc_cell": false,
   "toc_position": {
    "height": "calc(100% - 180px)",
    "left": "10px",
    "top": "150px",
    "width": "165px"
   },
   "toc_section_display": true,
   "toc_window_display": true
  },
  "varInspector": {
   "cols": {
    "lenName": 16,
    "lenType": 16,
    "lenVar": 40
   },
   "kernels_config": {
    "python": {
     "delete_cmd_postfix": "",
     "delete_cmd_prefix": "del ",
     "library": "var_list.py",
     "varRefreshCmd": "print(var_dic_list())"
    },
    "r": {
     "delete_cmd_postfix": ") ",
     "delete_cmd_prefix": "rm(",
     "library": "var_list.r",
     "varRefreshCmd": "cat(var_dic_list()) "
    }
   },
   "types_to_exclude": [
    "module",
    "function",
    "builtin_function_or_method",
    "instance",
    "_Feature"
   ],
   "window_display": false
  }
 },
 "nbformat": 4,
 "nbformat_minor": 5
}
